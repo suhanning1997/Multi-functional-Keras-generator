{
 "cells": [
  {
   "cell_type": "markdown",
   "id": "confirmed-gather",
   "metadata": {},
   "source": [
    "# LSTM RNN Model for Patent Technology Classification"
   ]
  },
  {
   "cell_type": "code",
   "execution_count": 42,
   "id": "impaired-screen",
   "metadata": {},
   "outputs": [],
   "source": [
    "import numpy as np\n",
    "from sklearn.preprocessing import LabelEncoder\n",
    "from tensorflow.keras import layers\n",
    "from tensorflow.keras.layers import Input, Dense, Activation, ZeroPadding2D, BatchNormalization, Flatten, Conv2D, Lambda\n",
    "from tensorflow.keras.layers import Dropout, Dense, Input, Dropout, LSTM, Activation\n",
    "from tensorflow.keras.models import Model, load_model\n",
    "from tensorflow.keras.utils import Sequence\n",
    "from tensorflow.keras.initializers import glorot_uniform\n",
    "from keras.preprocessing import image\n",
    "from keras.utils import layer_utils, to_categorical\n",
    "from keras.utils.data_utils import get_file\n",
    "from keras.applications.imagenet_utils import preprocess_input\n",
    "from keras.utils.vis_utils import model_to_dot\n",
    "from keras.utils import plot_model\n",
    "import tensorflow.keras.backend as K\n",
    "K.set_image_data_format('channels_last')\n",
    "#Conv2D output: 4+D tensor with shape: batch_shape + (new_rows, new_cols, filters) \n",
    "#if data_format='channels_last'. \n",
    "from gensim.models import KeyedVectors\n",
    "import tensorflow as tf\n",
    "from gensim import utils\n",
    "from itertools import compress \n",
    "from sklearn.metrics import classification_report, confusion_matrix, ConfusionMatrixDisplay\n",
    "import csv\n",
    "import re\n",
    "import pandas as pd\n",
    "import seaborn as sns\n",
    "import matplotlib.pyplot as plt"
   ]
  },
  {
   "cell_type": "code",
   "execution_count": 2,
   "id": "norman-obligation",
   "metadata": {},
   "outputs": [
    {
     "name": "stdout",
     "output_type": "stream",
     "text": [
      "Collecting gensim\n",
      "  Downloading gensim-3.8.3-cp37-cp37m-manylinux1_x86_64.whl (24.2 MB)\n",
      "\u001b[K     |████████████████████████████████| 24.2 MB 79 kB/s s eta 0:00:01\n",
      "\u001b[?25hRequirement already satisfied: numpy>=1.11.3 in /usr/local/lib/python3.7/site-packages (from gensim) (1.18.4)\n",
      "Requirement already satisfied: scipy>=0.18.1 in /usr/local/lib/python3.7/site-packages (from gensim) (1.4.1)\n",
      "Collecting smart-open>=1.8.1\n",
      "  Downloading smart_open-4.2.0.tar.gz (119 kB)\n",
      "\u001b[K     |████████████████████████████████| 119 kB 50.1 MB/s eta 0:00:01\n",
      "\u001b[?25hRequirement already satisfied: six>=1.5.0 in /usr/local/lib/python3.7/site-packages (from gensim) (1.14.0)\n",
      "Building wheels for collected packages: smart-open\n",
      "  Building wheel for smart-open (setup.py) ... \u001b[?25ldone\n",
      "\u001b[?25h  Created wheel for smart-open: filename=smart_open-4.2.0-py3-none-any.whl size=109630 sha256=5dbdcad7c49c8deebfd204dc59608c7853438f177ec7e017a761323537bc2ada\n",
      "  Stored in directory: /root/.cache/pip/wheels/25/88/e3/7cd51a6379cac37213cac47545a27688782752ff66351b953d\n",
      "Successfully built smart-open\n",
      "Installing collected packages: smart-open, gensim\n",
      "Successfully installed gensim-3.8.3 smart-open-4.2.0\n",
      "\u001b[33mWARNING: You are using pip version 20.1; however, version 21.0.1 is available.\n",
      "You should consider upgrading via the '/usr/local/bin/python -m pip install --upgrade pip' command.\u001b[0m\n",
      "Note: you may need to restart the kernel to use updated packages.\n"
     ]
    }
   ],
   "source": [
    "pip install gensim"
   ]
  },
  {
   "cell_type": "markdown",
   "id": "about-advocate",
   "metadata": {},
   "source": [
    "## Dataset description\n",
    "\n",
    "* Traning examples will be 200 dimensional word vectors stacked vertically, representing the concatenation of title of abstract section of patents granted since 1970.\n",
    "\n",
    "* Tech_classes data will be 3 digits CPC classfication of patents\n",
    "\n",
    "* Citations_class will be a classification based on distribution of 5-year raw citation counts, within the given patent's CPC 3 digit technology class. Each patent has exactly one of the 4 following labels:\n",
    " 1. Citation count greater or euqal to the 99% percentile (top1%)\n",
    " 2. Citation count greater or equal to the 90% percentile ()\n",
    " 3. Citation count less than 90% percentile but at least 1 ()\n",
    " 4. Citation count is exactly 0 ()"
   ]
  },
  {
   "cell_type": "markdown",
   "id": "beginning-ratio",
   "metadata": {},
   "source": [
    "## Patent RNN Model Architecture"
   ]
  },
  {
   "cell_type": "code",
   "execution_count": 4,
   "id": "insured-supply",
   "metadata": {},
   "outputs": [],
   "source": [
    "#Import the dataframe\n",
    "dataframe = pd.read_csv(\"/floyd/input/patent_prerank_upd/patent_prerank_upd.csv\")\n",
    "\n",
    "##How should I make input_size equal for all examples? Add padding?"
   ]
  },
  {
   "cell_type": "code",
   "execution_count": 9,
   "id": "aboriginal-purse",
   "metadata": {},
   "outputs": [],
   "source": [
    "def Patent_RNN_Model(input_shape = [100, 200], class_num = 125):\n",
    "    \"\"\"\n",
    "    Function creating the Emojify-v2 model's graph.\n",
    "    \n",
    "    Arguments:\n",
    "    input_shape -- shape of the input matrix \n",
    "    class_num -- total number of classes \n",
    "\n",
    "    Returns:\n",
    "    model -- a model instance in Keras\n",
    "    \"\"\"\n",
    "    \n",
    "    embeddings = Input(shape=input_shape) \n",
    "    \n",
    "    # Propagate the embeddings through an LSTM layer with 128-dimensional hidden state\n",
    "    # The returned output should be a batch of sequences.\n",
    "    X = LSTM(units = 128, return_sequences= True)(embeddings)#Set the units and return_sequences parameters.\n",
    "    # Add dropout with a probability of 0.5\n",
    "    X = Dropout(rate = 0.5)(X)\n",
    "    \n",
    "    # Propagate the embeddings through an LSTM layer with 128-dimensional hidden state\n",
    "    X = LSTM(units = 128, return_sequences= True)(embeddings)#Set the units and return_sequences parameters.\n",
    "    # Add dropout with a probability of 0.5\n",
    "    X = Dropout(rate = 0.5)(X)\n",
    "    \n",
    "    # Propagate the embeddings through an LSTM layer with 128-dimensional hidden state\n",
    "    X = LSTM(units = 128, return_sequences= True)(embeddings)#Set the units and return_sequences parameters.\n",
    "    # Add dropout with a probability of 0.5\n",
    "    X = Dropout(rate = 0.5)(X)\n",
    "    \n",
    "    # Propagate X trough another LSTM layer with 128-dimensional hidden state\n",
    "    # The returned output should be a single hidden state, not a batch of sequences.\n",
    "    X = LSTM(units = 128, return_sequences= False)(X)\n",
    "    \n",
    "    # Add dropout with a probability of 0.5\n",
    "    X = Dropout(rate = 0.5)(X)\n",
    "    # Propagate X through a Dense layer with 5 units\n",
    "    X = Dense(units = class_num)(X)\n",
    "    # Add a softmax activation\n",
    "    X = Activation(\"softmax\")(X)\n",
    "    \n",
    "    # Create Model instance which converts sentence_indices into X.\n",
    "    model = Model(inputs = embeddings, outputs = X)\n",
    "    \n",
    "    ### END CODE HERE ###\n",
    "    \n",
    "    return model"
   ]
  },
  {
   "cell_type": "markdown",
   "id": "understood-links",
   "metadata": {},
   "source": [
    "# Training"
   ]
  },
  {
   "cell_type": "code",
   "execution_count": 6,
   "id": "reduced-pharmacy",
   "metadata": {},
   "outputs": [],
   "source": [
    "word_vectors_sg = KeyedVectors.load('word2vec_sg.wordvectors')\n",
    "\n",
    "def matrix_generator(dataframe, list_IDs_temp, min_len = 1, max_len = 100, dim = (100, 200)):\n",
    "    '''\n",
    "    Input:\n",
    "    filename: name of the csv file we want to read data from\n",
    "    list_TDs_temp: indeces for minibatch\n",
    "    min_len: minimum number of tokenized words for a title + abstraction text\n",
    "    max_len: maximum number of tokenized words for a title + abstraction text\n",
    "    dim: dimension of outputing matrix representation of text\n",
    "    \n",
    "    Output:\n",
    "    X: batch of matrix representations of num_doc number of title+abstraction texts\n",
    "    y: labels\n",
    "    '''\n",
    "    batch_size = len(list_IDs_temp)\n",
    "    X = np.zeros((batch_size, *dim))\n",
    "    y = np.zeros((1, batch_size), dtype = int)\n",
    "    counter = 0\n",
    "    \n",
    "    for idx in list_IDs_temp:\n",
    "        if dataframe.iloc[idx][\"abstract\"] == 'NULL':\n",
    "            line = re.sub('[^a-zA-Z0-9]', ' ', str(dataframe.iloc[idx][\"title\"])) # remove non-letters and non-numbers\n",
    "            bool_list = [word in word_vectors_sg for word in utils.simple_preprocess(line)]\n",
    "            filtered_line = list(compress(utils.simple_preprocess(line), bool_list)) #some infrequency words are not included in the vocab, \n",
    "            #we remove then\n",
    "            length = len(filtered_line)\n",
    "            if length >= min_len:\n",
    "                matrix = word_vectors_sg[filtered_line] # generate document matrix representation from tokens\n",
    "                X_row = np.pad(matrix, ((0, max_len - length),(0, 0))).reshape([*dim])\n",
    "                X[counter] = X_row\n",
    "                y[0, counter] = dataframe.iloc[idx][\"label\"] - 1\n",
    "        else:\n",
    "            line = re.sub('[^a-zA-Z0-9]', ' ', str(dataframe.iloc[idx][\"title\"]) + ' ' + str(dataframe.iloc[idx][\"abstract\"])) # remove non-letters and non-numbers\n",
    "            bool_list = [word in word_vectors_sg for word in utils.simple_preprocess(line)]\n",
    "            filtered_line = list(compress(utils.simple_preprocess(line), bool_list)) #some infrequent words are not included in the vocab, \n",
    "            #we remove then\n",
    "            length = len(filtered_line)\n",
    "            if length >= min_len and length <= max_len:\n",
    "                matrix = word_vectors_sg[filtered_line] # generate document matrix representation from tokens\n",
    "                X_row = np.pad(matrix, ((0, max_len - length),(0, 0))).reshape([*dim])\n",
    "                X[counter] = X_row\n",
    "                y[0, counter] = dataframe.iloc[idx][\"label\"] - 1\n",
    "            elif length > max_len:\n",
    "                matrix = word_vectors_sg[filtered_line[0:max_len]] # generate document matrix representation from tokens\n",
    "                X_row = matrix.reshape([*dim])\n",
    "                X[counter] = X_row\n",
    "                y[0, counter] = dataframe.iloc[idx][\"label\"] - 1\n",
    "        counter += 1\n",
    "    return X, np.squeeze(y)"
   ]
  },
  {
   "cell_type": "code",
   "execution_count": 24,
   "id": "cellular-controversy",
   "metadata": {},
   "outputs": [],
   "source": [
    "class DataGenerator(Sequence):\n",
    "    'Generates data for Keras'\n",
    "    def __init__(self, dataframe, batch_size=100, text_length = 100,\n",
    "                 n_classes=125, shuffle=False):\n",
    "        'Initialization'\n",
    "        self.dataframe = dataframe\n",
    "        self.dim = (text_length, 200)\n",
    "        self.batch_size = batch_size\n",
    "        self.list_IDs = list(range(len(dataframe.loc[:, \"patent_id\"])))\n",
    "        self.n_classes = n_classes\n",
    "        self.shuffle = shuffle\n",
    "        self.on_epoch_end()\n",
    "\n",
    "    def __len__(self):\n",
    "        'Denotes the number of batches per epoch'\n",
    "        return int(np.floor(len(self.dataframe.loc[:, \"patent_id\"]) / self.batch_size))\n",
    "\n",
    "    def __getitem__(self, index):\n",
    "        'Generate one batch of data'\n",
    "        # Generate indexes of the batch\n",
    "        indexes = self.indexes[index*self.batch_size:(index+1)*self.batch_size]\n",
    "\n",
    "        # Find list of IDs\n",
    "        list_IDs_temp = [self.list_IDs[k] for k in indexes]\n",
    "\n",
    "        # Generate data\n",
    "        X, y = self.__data_generation(list_IDs_temp)\n",
    "\n",
    "        return X, y\n",
    "\n",
    "    def on_epoch_end(self):\n",
    "        'Updates indexes after each epoch'\n",
    "        self.indexes = np.arange(len(self.list_IDs))\n",
    "        if self.shuffle == True:\n",
    "            np.random.shuffle(self.indexes)\n",
    "\n",
    "    def __data_generation(self, list_IDs_temp):\n",
    "        'Generates data containing batch_size samples' # X : (n_samples, *dim, n_channels)\n",
    "        X, y = matrix_generator(self.dataframe, list_IDs_temp)\n",
    "        return X, to_categorical(y, num_classes=self.n_classes)"
   ]
  },
  {
   "cell_type": "code",
   "execution_count": 29,
   "id": "cardiac-representation",
   "metadata": {},
   "outputs": [],
   "source": [
    "class DataGenerator2(Sequence):\n",
    "    'Generates data for Keras'\n",
    "    def __init__(self, dataframe, batch_size=100, text_length = 100,\n",
    "                 n_classes=125, shuffle=False):\n",
    "        'Initialization'\n",
    "        self.dataframe = dataframe\n",
    "        self.dim = (text_length, 200)\n",
    "        self.batch_size = batch_size\n",
    "        self.list_IDs = list(range(len(dataframe.loc[:, \"patent_id\"])))\n",
    "        self.n_classes = n_classes\n",
    "        self.shuffle = shuffle\n",
    "        self.on_epoch_end()\n",
    "        self.n = 0\n",
    "        self.max = self.__len__()\n",
    "\n",
    "    def __len__(self):\n",
    "        'Denotes the number of batches per epoch'\n",
    "        return int(np.floor(len(self.dataframe.loc[:, \"patent_id\"]) / self.batch_size))\n",
    "\n",
    "    def __getitem__(self, index):\n",
    "        'Generate one batch of data'\n",
    "        # Generate indexes of the batch\n",
    "        indexes = self.indexes[index*self.batch_size:(index+1)*self.batch_size]\n",
    "\n",
    "        # Find list of IDs\n",
    "        list_IDs_temp = [self.list_IDs[k] for k in indexes]\n",
    "\n",
    "        # Generate data\n",
    "        y = self.__data_generation(list_IDs_temp)\n",
    "\n",
    "        return y\n",
    "\n",
    "    def on_epoch_end(self):\n",
    "        'Updates indexes after each epoch'\n",
    "        self.indexes = np.arange(len(self.list_IDs))\n",
    "        if self.shuffle == True:\n",
    "            np.random.shuffle(self.indexes)\n",
    "\n",
    "    def __data_generation(self, list_IDs_temp):\n",
    "        'Generates data containing batch_size samples' # X : (n_samples, *dim, n_channels)\n",
    "        _, y = matrix_generator(self.dataframe, list_IDs_temp)\n",
    "        return to_categorical(y, num_classes=self.n_classes)\n",
    "    \n",
    "    def __next__(self):\n",
    "        if self.n >= self.max:\n",
    "           self.n = 0\n",
    "        y = self.__getitem__(self.n)\n",
    "        self.n += 1\n",
    "        return y"
   ]
  },
  {
   "cell_type": "code",
   "execution_count": 64,
   "id": "figured-alaska",
   "metadata": {},
   "outputs": [],
   "source": [
    "grouped = dataframe.groupby('label')\n",
    "small = grouped.apply(lambda x: x.sample(frac=0.15, random_state = 1))\n",
    "train = small.apply(lambda x: x.sample(frac=0.98, random_state = 1))\n",
    "test = pd.concat([small,train]).drop_duplicates(keep=False)\n",
    "\n",
    "# Generators\n",
    "training_generator = DataGenerator(train)\n",
    "validation_generator = DataGenerator(test)"
   ]
  },
  {
   "cell_type": "code",
   "execution_count": 65,
   "id": "pending-eligibility",
   "metadata": {},
   "outputs": [
    {
     "data": {
      "text/plain": [
       "(996609, 7)"
      ]
     },
     "execution_count": 65,
     "metadata": {},
     "output_type": "execute_result"
    }
   ],
   "source": [
    "train.shape"
   ]
  },
  {
   "cell_type": "code",
   "execution_count": 66,
   "id": "available-filter",
   "metadata": {},
   "outputs": [
    {
     "data": {
      "text/plain": [
       "(20339, 7)"
      ]
     },
     "execution_count": 66,
     "metadata": {},
     "output_type": "execute_result"
    }
   ],
   "source": [
    "test.shape"
   ]
  },
  {
   "cell_type": "code",
   "execution_count": 10,
   "id": "historic-tulsa",
   "metadata": {},
   "outputs": [
    {
     "name": "stdout",
     "output_type": "stream",
     "text": [
      "Model: \"model\"\n",
      "_________________________________________________________________\n",
      "Layer (type)                 Output Shape              Param #   \n",
      "=================================================================\n",
      "input_1 (InputLayer)         [(None, 100, 200)]        0         \n",
      "_________________________________________________________________\n",
      "lstm_2 (LSTM)                (None, 100, 128)          168448    \n",
      "_________________________________________________________________\n",
      "dropout_2 (Dropout)          (None, 100, 128)          0         \n",
      "_________________________________________________________________\n",
      "lstm_3 (LSTM)                (None, 128)               131584    \n",
      "_________________________________________________________________\n",
      "dropout_3 (Dropout)          (None, 128)               0         \n",
      "_________________________________________________________________\n",
      "dense (Dense)                (None, 125)               16125     \n",
      "_________________________________________________________________\n",
      "activation (Activation)      (None, 125)               0         \n",
      "=================================================================\n",
      "Total params: 316,157\n",
      "Trainable params: 316,157\n",
      "Non-trainable params: 0\n",
      "_________________________________________________________________\n"
     ]
    }
   ],
   "source": [
    "patentmodel = Patent_RNN_Model()\n",
    "patentmodel.summary()"
   ]
  },
  {
   "cell_type": "code",
   "execution_count": 11,
   "id": "animal-certificate",
   "metadata": {},
   "outputs": [],
   "source": [
    "patentmodel.compile(loss='categorical_crossentropy', optimizer='adam', metrics=['accuracy'])"
   ]
  },
  {
   "cell_type": "code",
   "execution_count": 35,
   "id": "single-vatican",
   "metadata": {},
   "outputs": [
    {
     "name": "stdout",
     "output_type": "stream",
     "text": [
      "Epoch 1/5\n",
      "9966/9966 [==============================] - 2128s 214ms/step - loss: 1.9105 - accuracy: 0.5157 - val_loss: 1.2710 - val_accuracy: 0.6577\n",
      "Epoch 2/5\n",
      "9966/9966 [==============================] - 2115s 212ms/step - loss: 1.2568 - accuracy: 0.6655 - val_loss: 1.1034 - val_accuracy: 0.6942\n",
      "Epoch 3/5\n",
      "9966/9966 [==============================] - 2108s 212ms/step - loss: 1.1520 - accuracy: 0.6891 - val_loss: 1.0498 - val_accuracy: 0.7061\n",
      "Epoch 4/5\n",
      "9966/9966 [==============================] - 2093s 210ms/step - loss: 1.1004 - accuracy: 0.7008 - val_loss: 1.0182 - val_accuracy: 0.7163\n",
      "Epoch 5/5\n",
      "9966/9966 [==============================] - 2100s 211ms/step - loss: 1.0663 - accuracy: 0.7085 - val_loss: 1.0112 - val_accuracy: 0.7140\n"
     ]
    },
    {
     "data": {
      "text/plain": [
       "<tensorflow.python.keras.callbacks.History at 0x7fa057d646d0>"
      ]
     },
     "execution_count": 35,
     "metadata": {},
     "output_type": "execute_result"
    }
   ],
   "source": [
    "patentmodel.fit(training_generator, validation_data = validation_generator, epochs = 5)"
   ]
  },
  {
   "cell_type": "code",
   "execution_count": 44,
   "id": "unusual-injection",
   "metadata": {},
   "outputs": [
    {
     "name": "stdout",
     "output_type": "stream",
     "text": [
      "WARNING:tensorflow:From /usr/local/lib/python3.7/site-packages/tensorflow/python/ops/resource_variable_ops.py:1817: calling BaseResourceVariable.__init__ (from tensorflow.python.ops.resource_variable_ops) with constraint is deprecated and will be removed in a future version.\n",
      "Instructions for updating:\n",
      "If using Keras pass *_constraint arguments to layers.\n",
      "INFO:tensorflow:Assets written to: cnn_v2_citation/assets\n"
     ]
    }
   ],
   "source": [
    "patentmodel.save('RNN_v1_techclass')"
   ]
  },
  {
   "cell_type": "code",
   "execution_count": 12,
   "id": "intimate-reunion",
   "metadata": {},
   "outputs": [],
   "source": [
    "patentmodel = load_model('RNN_v1_techclass')"
   ]
  },
  {
   "cell_type": "markdown",
   "id": "suspended-consumption",
   "metadata": {},
   "source": [
    "# Model evaluation using the smaller test set"
   ]
  },
  {
   "cell_type": "code",
   "execution_count": 13,
   "id": "mounted-sauce",
   "metadata": {},
   "outputs": [
    {
     "name": "stdout",
     "output_type": "stream",
     "text": [
      "203/203 [==============================] - 41s 201ms/step - loss: 1.0121 - accuracy: 0.7137\n"
     ]
    },
    {
     "data": {
      "text/plain": [
       "[1.0121026039123535, 0.7136945724487305]"
      ]
     },
     "execution_count": 13,
     "metadata": {},
     "output_type": "execute_result"
    }
   ],
   "source": [
    "patentmodel.evaluate(validation_generator)"
   ]
  },
  {
   "cell_type": "markdown",
   "id": "prepared-daniel",
   "metadata": {},
   "source": [
    "# Model evaluation using all of the example left unused"
   ]
  },
  {
   "cell_type": "code",
   "execution_count": 21,
   "id": "fresh-mills",
   "metadata": {},
   "outputs": [],
   "source": [
    "test_large = pd.concat([dataframe,small]).drop_duplicates(keep=False)"
   ]
  },
  {
   "cell_type": "code",
   "execution_count": 28,
   "id": "minimal-accent",
   "metadata": {},
   "outputs": [
    {
     "name": "stdout",
     "output_type": "stream",
     "text": [
      "(5762712, 7)\n"
     ]
    }
   ],
   "source": [
    "print(test_large.shape)"
   ]
  },
  {
   "cell_type": "code",
   "execution_count": 25,
   "id": "statistical-wrong",
   "metadata": {},
   "outputs": [],
   "source": [
    "validation_generator_large = DataGenerator(test_large)"
   ]
  },
  {
   "cell_type": "code",
   "execution_count": 30,
   "id": "described-violation",
   "metadata": {},
   "outputs": [],
   "source": [
    "validation_generator2_large = DataGenerator2(test_large)"
   ]
  },
  {
   "cell_type": "code",
   "execution_count": 17,
   "id": "scientific-money",
   "metadata": {},
   "outputs": [
    {
     "name": "stdout",
     "output_type": "stream",
     "text": [
      "57627/57627 [==============================] - 10815s 188ms/step - loss: 1.0090 - accuracy: 0.7138\n"
     ]
    },
    {
     "data": {
      "text/plain": [
       "[1.0090017318725586, 0.7137869596481323]"
      ]
     },
     "execution_count": 17,
     "metadata": {},
     "output_type": "execute_result"
    }
   ],
   "source": [
    "patentmodel.evaluate(validation_generator_large)"
   ]
  },
  {
   "cell_type": "code",
   "execution_count": 26,
   "id": "killing-peace",
   "metadata": {},
   "outputs": [],
   "source": [
    "prediction = patentmodel.predict(validation_generator_large)"
   ]
  },
  {
   "cell_type": "code",
   "execution_count": 27,
   "id": "digital-reporter",
   "metadata": {},
   "outputs": [],
   "source": [
    "classes_predictions = np.argmax(prediction, axis = 1)"
   ]
  },
  {
   "cell_type": "code",
   "execution_count": 32,
   "id": "obvious-clause",
   "metadata": {},
   "outputs": [],
   "source": [
    "labels = []\n",
    "for i in range(5762712 // 100):\n",
    "    y = next(validation_generator2_large)\n",
    "    labels.append(y) "
   ]
  },
  {
   "cell_type": "code",
   "execution_count": 36,
   "id": "reliable-nancy",
   "metadata": {},
   "outputs": [],
   "source": [
    "ground_true = np.vstack(labels)"
   ]
  },
  {
   "cell_type": "code",
   "execution_count": 37,
   "id": "reported-matrix",
   "metadata": {},
   "outputs": [],
   "source": [
    "ground_true_int = np.argmax(ground_true, axis=1)"
   ]
  },
  {
   "cell_type": "code",
   "execution_count": 38,
   "id": "through-sailing",
   "metadata": {},
   "outputs": [
    {
     "data": {
      "text/plain": [
       "5762700"
      ]
     },
     "execution_count": 38,
     "metadata": {},
     "output_type": "execute_result"
    }
   ],
   "source": [
    "len(ground_true_int)"
   ]
  },
  {
   "cell_type": "code",
   "execution_count": 39,
   "id": "filled-think",
   "metadata": {},
   "outputs": [],
   "source": [
    "bool_list = []\n",
    "for i in range(len(ground_true_int)):\n",
    "    if ground_true_int[i] == classes_predictions[i]:\n",
    "        bool_list.append(True)\n",
    "    else:\n",
    "        bool_list.append(False)"
   ]
  },
  {
   "cell_type": "code",
   "execution_count": 40,
   "id": "recognized-delta",
   "metadata": {},
   "outputs": [
    {
     "data": {
      "text/plain": [
       "0.7137876342686588"
      ]
     },
     "execution_count": 40,
     "metadata": {},
     "output_type": "execute_result"
    }
   ],
   "source": [
    "sum(bool_list) / len(ground_true_int)"
   ]
  },
  {
   "cell_type": "code",
   "execution_count": 43,
   "id": "dense-narrative",
   "metadata": {},
   "outputs": [],
   "source": [
    "cnf_matrix_row = confusion_matrix(ground_true_int, classes_predictions, normalize = 'true')\n",
    "cnf_matrix_col = confusion_matrix(ground_true_int, classes_predictions, normalize = 'pred')"
   ]
  },
  {
   "cell_type": "code",
   "execution_count": 67,
   "id": "white-adelaide",
   "metadata": {},
   "outputs": [
    {
     "data": {
      "image/png": "[encoded data removed]",
      "text/plain": [
       "<Figure size 432x288 with 2 Axes>"
      ]
     },
     "metadata": {
      "needs_background": "light"
     },
     "output_type": "display_data"
    }
   ],
   "source": [
    "\n",
    "ticks=np.linspace(0, 124,num=125)\n",
    "plt.imshow(cnf_matrix_row, interpolation='none')\n",
    "plt.colorbar()\n",
    "plt.title('Confusion matrix normalized row-wise')\n",
    "plt.xlabel('Predicted Labels')\n",
    "plt.ylabel('True Labels')\n",
    "plt.grid(True)\n",
    "\n",
    "plt.savefig('conf_matrix_row.png')\n",
    "plt.show()  "
   ]
  },
  {
   "cell_type": "code",
   "execution_count": 68,
   "id": "restricted-lawsuit",
   "metadata": {},
   "outputs": [
    {
     "data": {
      "image/png": "[encoded data removed]",
      "text/plain": [
       "<Figure size 432x288 with 2 Axes>"
      ]
     },
     "metadata": {
      "needs_background": "light"
     },
     "output_type": "display_data"
    }
   ],
   "source": [
    "ticks=np.linspace(0, 124,num=125)\n",
    "plt.imshow(cnf_matrix_row, interpolation='none')\n",
    "plt.colorbar()\n",
    "plt.title('Confusion matrix normalized column-wise')\n",
    "plt.xlabel('Predicted Labels')\n",
    "plt.ylabel('True Labels')\n",
    "plt.grid(True)\n",
    "\n",
    "plt.savefig('conf_matrix_column.png')\n",
    "plt.show()  "
   ]
  },
  {
   "cell_type": "code",
   "execution_count": 48,
   "id": "latter-durham",
   "metadata": {},
   "outputs": [
    {
     "name": "stderr",
     "output_type": "stream",
     "text": [
      "/usr/local/lib/python3.7/site-packages/sklearn/metrics/_classification.py:1272: UndefinedMetricWarning: Precision and F-score are ill-defined and being set to 0.0 in labels with no predicted samples. Use `zero_division` parameter to control this behavior.\n",
      "  _warn_prf(average, modifier, msg_start, len(result))\n"
     ]
    },
    {
     "name": "stdout",
     "output_type": "stream",
     "text": [
      "              precision    recall  f1-score   support\n",
      "\n",
      "           0       0.81      0.73      0.77     81474\n",
      "           1       0.56      0.56      0.56      4023\n",
      "           2       0.58      0.73      0.65      4369\n",
      "           3       0.66      0.60      0.63     20884\n",
      "           4       0.78      0.77      0.78      6259\n",
      "           5       0.57      0.61      0.59     10284\n",
      "           6       0.81      0.57      0.67      3671\n",
      "           7       0.82      0.83      0.82      9283\n",
      "           8       0.70      0.54      0.61      6726\n",
      "           9       0.62      0.50      0.56     16397\n",
      "          10       0.69      0.48      0.57      4134\n",
      "          11       0.63      0.68      0.65     72757\n",
      "          12       0.82      0.83      0.83    411278\n",
      "          13       0.58      0.42      0.49      7839\n",
      "          14       0.79      0.82      0.80     71811\n",
      "          15       0.52      0.57      0.54     87163\n",
      "          16       0.70      0.57      0.63      5044\n",
      "          17       0.58      0.39      0.47      4579\n",
      "          18       0.70      0.55      0.62      2736\n",
      "          19       0.55      0.46      0.50     22369\n",
      "          20       0.49      0.15      0.22      1992\n",
      "          21       0.58      0.29      0.38      4582\n",
      "          22       0.35      0.14      0.20      5675\n",
      "          23       0.43      0.25      0.32      1780\n",
      "          24       0.59      0.56      0.58     19320\n",
      "          25       0.74      0.49      0.59     14145\n",
      "          26       0.60      0.61      0.60     49371\n",
      "          27       0.74      0.66      0.70     16204\n",
      "          28       0.62      0.56      0.59     28884\n",
      "          29       0.64      0.52      0.57     11177\n",
      "          30       0.50      0.43      0.46      6627\n",
      "          31       0.57      0.24      0.33      4371\n",
      "          32       0.61      0.54      0.58     48252\n",
      "          33       0.56      0.30      0.39      3905\n",
      "          34       0.61      0.07      0.13      2876\n",
      "          35       0.46      0.35      0.40     23804\n",
      "          36       0.00      0.00      0.00       512\n",
      "          37       0.75      0.79      0.77     65203\n",
      "          38       0.58      0.48      0.52      7668\n",
      "          39       0.70      0.49      0.58      4268\n",
      "          40       0.35      0.08      0.12      3918\n",
      "          41       0.68      0.70      0.69    153756\n",
      "          42       0.62      0.49      0.55      7466\n",
      "          43       0.62      0.67      0.64     42956\n",
      "          44       0.64      0.74      0.68     19918\n",
      "          45       0.67      0.61      0.64     23695\n",
      "          46       0.67      0.66      0.66    109829\n",
      "          47       0.69      0.61      0.65     14853\n",
      "          48       0.53      0.32      0.40      8051\n",
      "          49       0.91      0.04      0.08       720\n",
      "          50       0.60      0.35      0.44      4887\n",
      "          51       0.22      0.02      0.04     13344\n",
      "          52       0.51      0.31      0.38     17204\n",
      "          53       0.56      0.54      0.55     15573\n",
      "          54       0.72      0.57      0.64     15276\n",
      "          55       0.54      0.56      0.55     17615\n",
      "          56       0.73      0.40      0.52      2608\n",
      "          57       0.67      0.62      0.65      2375\n",
      "          58       0.79      0.80      0.79    226399\n",
      "          59       0.67      0.77      0.72    105183\n",
      "          60       0.61      0.54      0.58     54140\n",
      "          61       0.70      0.65      0.67     27168\n",
      "          62       0.70      0.58      0.63     15312\n",
      "          63       0.70      0.70      0.70     75620\n",
      "          64       0.33      0.15      0.21       869\n",
      "          65       0.81      0.25      0.38       570\n",
      "          66       0.44      0.43      0.44      7100\n",
      "          67       0.56      0.61      0.59     16063\n",
      "          68       0.47      0.49      0.48     25060\n",
      "          69       0.66      0.55      0.60     12096\n",
      "          70       0.77      0.43      0.55      6430\n",
      "          71       0.00      0.00      0.00       677\n",
      "          72       0.57      0.61      0.59      9104\n",
      "          73       0.58      0.33      0.42      2557\n",
      "          74       0.86      0.65      0.74      3825\n",
      "          75       0.54      0.52      0.53      6848\n",
      "          76       0.86      0.81      0.83      5618\n",
      "          77       0.61      0.59      0.60     16022\n",
      "          78       0.69      0.27      0.39       832\n",
      "          79       0.64      0.64      0.64     13260\n",
      "          80       0.65      0.45      0.53     12164\n",
      "          81       0.56      0.49      0.52     16389\n",
      "          82       0.52      0.64      0.58      9331\n",
      "          83       0.58      0.71      0.64     37910\n",
      "          84       0.69      0.68      0.69     23645\n",
      "          85       0.59      0.69      0.63     11948\n",
      "          86       0.76      0.76      0.76     46438\n",
      "          87       0.66      0.57      0.61     44758\n",
      "          88       0.71      0.76      0.73     68241\n",
      "          89       0.62      0.65      0.63      9326\n",
      "          90       0.68      0.67      0.68     30764\n",
      "          91       0.41      0.35      0.38      7358\n",
      "          92       0.62      0.69      0.66    141583\n",
      "          93       0.53      0.17      0.26      3633\n",
      "          94       0.61      0.71      0.66     24711\n",
      "          95       0.47      0.30      0.37      2026\n",
      "          96       0.64      0.63      0.64     15522\n",
      "          97       0.51      0.59      0.54     20470\n",
      "          98       0.68      0.64      0.66     18655\n",
      "          99       0.53      0.33      0.41      3964\n",
      "         100       0.40      0.36      0.38      4545\n",
      "         101       0.56      0.55      0.55     12287\n",
      "         102       0.78      0.74      0.76     21381\n",
      "         103       0.61      0.71      0.65      9165\n",
      "         104       0.68      0.74      0.71    305209\n",
      "         105       0.69      0.76      0.72    133375\n",
      "         106       0.78      0.72      0.75    121631\n",
      "         107       0.78      0.61      0.69      7312\n",
      "         108       0.42      0.36      0.39     41269\n",
      "         109       0.76      0.78      0.77    550145\n",
      "         110       0.77      0.46      0.57     32810\n",
      "         111       0.45      0.44      0.44     26970\n",
      "         112       0.66      0.53      0.59     54261\n",
      "         113       0.74      0.70      0.72     33232\n",
      "         114       0.79      0.78      0.78    139254\n",
      "         115       0.00      0.00      0.00       165\n",
      "         116       0.49      0.11      0.18      4763\n",
      "         117       0.74      0.55      0.63     11382\n",
      "         118       0.80      0.82      0.81    543745\n",
      "         119       0.65      0.72      0.68    106375\n",
      "         120       0.64      0.74      0.69    102615\n",
      "         121       0.79      0.81      0.80    598050\n",
      "         122       0.59      0.48      0.53     75341\n",
      "         123       0.00      0.00      0.00        17\n",
      "         124       0.00      0.00      0.00        72\n",
      "\n",
      "    accuracy                           0.71   5762700\n",
      "   macro avg       0.61      0.52      0.54   5762700\n",
      "weighted avg       0.71      0.71      0.71   5762700\n",
      "\n"
     ]
    }
   ],
   "source": [
    "print(classification_report(ground_true_int, classes_predictions))"
   ]
  },
  {
   "cell_type": "code",
   "execution_count": 18,
   "id": "pressing-today",
   "metadata": {},
   "outputs": [],
   "source": [
    "subsection_id = { \"A01\" : 1,\n",
    "                  \"A21\" : 2,\n",
    "                  \"A22\" : 3,\n",
    "                  \"A23\" : 4,\n",
    "                  \"A24\" : 5,\n",
    "                  \"A41\" : 6,\n",
    "                  \"A42\" : 7,\n",
    "                  \"A43\" : 8,\n",
    "                  \"A44\" : 9,\n",
    "                  \"A45\" : 10,\n",
    "                  \"A46\" : 11,\n",
    "                  \"A47\" : 12, \n",
    "      \n",
    "                  \"A61\" : 13,\n",
    "                  \"A62\" : 14,\n",
    "                  \"A63\" : 15,\n",
    "      \n",
    "                  \"B01\" : 16,\n",
    "                  \"B02\" : 17,\n",
    "                  \"B03\" : 18,\n",
    "                  \"B04\" : 19,\n",
    "                  \"B05\" : 20,\n",
    "                  \"B06\" : 21,\n",
    "                  \"B07\" : 22,\n",
    "                  \"B08\" : 23,\n",
    "                  \"B09\" : 24,\n",
    "                  \"B21\" : 25,\n",
    "                  \"B22\" : 26,\n",
    "                  \"B23\" : 27,\n",
    "                  \"B24\" : 28,\n",
    "                  \"B25\" : 29,\n",
    "                  \"B26\" : 30,\n",
    "                  \"B27\" : 31,\n",
    "                  \"B28\" : 32,\n",
    "                  \"B29\" : 33,\n",
    "                  \"B30\" : 34,\n",
    "                  \"B31\" : 35,\n",
    "                  \"B32\" : 36,\n",
    "                  \"B33\" : 37,\n",
    "                  \"B41\" : 38,\n",
    "                  \"B42\" : 39,\n",
    "                  \"B43\" : 40,\n",
    "                  \"B44\" : 41,\n",
    "                  \"B60\" : 42,\n",
    "                  \"B61\" : 43,\n",
    "                  \"B62\" : 44,\n",
    "                  \"B63\" : 45,\n",
    "                  \"B64\" : 46, \n",
    "                  \"B65\" : 47,\n",
    "                  \"B66\" : 48,\n",
    "                  \"B67\" : 49,\n",
    "                  \"B68\" : 50,\n",
    "                  \"B81\" : 51,\n",
    "                  \"B82\" : 52, \n",
    "      \n",
    "                  \"C01\" : 53,\n",
    "                  \"C02\" : 54,\n",
    "                  \"C03\" : 55,\n",
    "                  \"C04\" : 56,\n",
    "                  \"C05\" : 57,\n",
    "                  \"C06\" : 58,\n",
    "                  \"C07\" : 59,\n",
    "                  \"C08\" : 60,\n",
    "                  \"C09\" : 61,\n",
    "                  \"C10\" : 62,\n",
    "                  \"C11\" : 63,\n",
    "                  \"C12\" : 64,\n",
    "                  \"C13\" : 65,\n",
    "                  \"C14\" : 66,\n",
    "      \n",
    "                  \"C21\" : 67,\n",
    "                  \"C22\" : 68,\n",
    "                  \"C23\" : 69,\n",
    "      \n",
    "                  \"C25\" : 70,\n",
    "                  \"C30\" : 71,\n",
    "                  \"C40\" : 72,\n",
    "      \n",
    "                  \"D01\" : 73,\n",
    "                  \"D02\" : 74,\n",
    "                  \"D03\" : 75,\n",
    "                  \"D04\" : 76,\n",
    "                  \"D05\" : 77,\n",
    "                  \"D06\" : 78,\n",
    "                  \"D07\" : 79,\n",
    "                  \"D21\" : 80,\n",
    "      \n",
    "                  \"E01\" : 81,\n",
    "                  \"E02\" : 82,\n",
    "                  \"E03\" : 83,\n",
    "                  \"E04\" : 84,\n",
    "                  \"E05\" : 85,\n",
    "                  \"E06\" : 86,\n",
    "                  \"E21\" : 87,\n",
    "      \n",
    "                  \"F01\" : 88,\n",
    "                  \"F02\" : 89,\n",
    "                  \"F03\" : 90,\n",
    "                  \"F04\" : 91,\n",
    "    \n",
    "                  \"F15\" : 92,\n",
    "                  \"F16\" : 93,\n",
    "                  \"F17\" : 94,\n",
    "                  \"F21\" : 95,\n",
    "                  \"F22\" : 96,\n",
    "                  \"F23\" : 97,\n",
    "                  \"F24\" : 98,\n",
    "                  \"F25\" : 99,\n",
    "                  \"F26\" : 100,\n",
    "                  \"F27\" : 101,\n",
    "                  \"F28\" : 102,\n",
    "      \n",
    "                  \"F41\" : 103,\n",
    "                  \"F42\" : 104,\n",
    "      \n",
    "                  \"G01\" : 105,\n",
    "                  \"G02\" : 106,\n",
    "                  \"G03\" : 107,\n",
    "                  \"G04\" : 108,\n",
    "                  \"G05\" : 109,\n",
    "                  \"G06\" : 110,\n",
    "                  \"G07\" : 111,\n",
    "                  \"G08\" : 112,\n",
    "                  \"G09\" : 113,\n",
    "                  \"G10\" : 114,\n",
    "                  \"G11\" : 115,\n",
    "                  \"G12\" : 116,\n",
    "                  \"G16\" : 117,\n",
    "                  \"G21\" : 118,\n",
    "      \n",
    "                  \"H01\" : 119,\n",
    "                  \"H02\" : 120,\n",
    "                  \"H03\" : 121,\n",
    "                  \"H04\" : 122,\n",
    "                  \"H05\" : 123,\n",
    "      \n",
    "                  \"Y02\" : 124,\n",
    "                  \"Y10\" : 125 }"
   ]
  },
  {
   "cell_type": "code",
   "execution_count": null,
   "id": "alone-person",
   "metadata": {},
   "outputs": [],
   "source": []
  }
 ],
 "metadata": {
  "kernelspec": {
   "display_name": "Python 3",
   "language": "python",
   "name": "python3"
  },
  "language_info": {
   "codemirror_mode": {
    "name": "ipython",
    "version": 3
   },
   "file_extension": ".py",
   "mimetype": "text/x-python",
   "name": "python",
   "nbconvert_exporter": "python",
   "pygments_lexer": "ipython3",
   "version": "3.8.8"
  }
 },
 "nbformat": 4,
 "nbformat_minor": 5
}
