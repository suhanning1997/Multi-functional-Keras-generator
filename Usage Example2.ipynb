{
 "cells": [
  {
   "cell_type": "markdown",
   "id": "sorted-photograph",
   "metadata": {},
   "source": [
    "# LSTM RNN Model for Citation Level Projection"
   ]
  },
  {
   "cell_type": "code",
   "execution_count": 254,
   "id": "thirty-jesus",
   "metadata": {},
   "outputs": [],
   "source": [
    "import numpy as np\n",
    "from sklearn.preprocessing import LabelEncoder\n",
    "from tensorflow.keras import layers\n",
    "from tensorflow.keras.layers import Input, Dense, Activation, ZeroPadding2D, BatchNormalization, Flatten, Conv2D, Lambda\n",
    "from tensorflow.keras.layers import Dropout, Dense, Input, Dropout, LSTM, Activation\n",
    "from tensorflow.keras.models import Model, load_model\n",
    "from tensorflow.keras.utils import Sequence\n",
    "from tensorflow.keras.initializers import glorot_uniform\n",
    "from keras.preprocessing import image\n",
    "from keras.utils import layer_utils, to_categorical\n",
    "from keras.utils.data_utils import get_file\n",
    "from keras.applications.imagenet_utils import preprocess_input\n",
    "from keras.utils.vis_utils import model_to_dot\n",
    "from keras.utils import plot_model\n",
    "import tensorflow.keras.backend as K\n",
    "K.set_image_data_format('channels_last')\n",
    "#Conv2D output: 4+D tensor with shape: batch_shape + (new_rows, new_cols, filters) \n",
    "#if data_format='channels_last'. \n",
    "from gensim.models import KeyedVectors\n",
    "import tensorflow as tf\n",
    "from gensim import utils\n",
    "from itertools import compress \n",
    "from sklearn.metrics import classification_report, confusion_matrix, ConfusionMatrixDisplay\n",
    "import csv\n",
    "import re\n",
    "import pandas as pd\n",
    "import seaborn as sns\n",
    "import matplotlib.pyplot as plt"
   ]
  },
  {
   "cell_type": "code",
   "execution_count": 2,
   "id": "present-thermal",
   "metadata": {},
   "outputs": [
    {
     "name": "stdout",
     "output_type": "stream",
     "text": [
      "Collecting gensim\n",
      "  Downloading gensim-3.8.3-cp37-cp37m-manylinux1_x86_64.whl (24.2 MB)\n",
      "\u001b[K     |████████████████████████████████| 24.2 MB 122 kB/s  eta 0:00:01\n",
      "\u001b[?25hRequirement already satisfied: scipy>=0.18.1 in /usr/local/lib/python3.7/site-packages (from gensim) (1.4.1)\n",
      "Collecting smart-open>=1.8.1\n",
      "  Downloading smart_open-4.2.0.tar.gz (119 kB)\n",
      "\u001b[K     |████████████████████████████████| 119 kB 60.1 MB/s eta 0:00:01\n",
      "\u001b[?25hRequirement already satisfied: numpy>=1.11.3 in /usr/local/lib/python3.7/site-packages (from gensim) (1.18.4)\n",
      "Requirement already satisfied: six>=1.5.0 in /usr/local/lib/python3.7/site-packages (from gensim) (1.14.0)\n",
      "Building wheels for collected packages: smart-open\n",
      "  Building wheel for smart-open (setup.py) ... \u001b[?25ldone\n",
      "\u001b[?25h  Created wheel for smart-open: filename=smart_open-4.2.0-py3-none-any.whl size=109630 sha256=6e6a4fd7dae917bbf1de9058881fcc288071666d449df808a6e2c0bc77cc1bed\n",
      "  Stored in directory: /root/.cache/pip/wheels/25/88/e3/7cd51a6379cac37213cac47545a27688782752ff66351b953d\n",
      "Successfully built smart-open\n",
      "Installing collected packages: smart-open, gensim\n",
      "Successfully installed gensim-3.8.3 smart-open-4.2.0\n",
      "\u001b[33mWARNING: You are using pip version 20.1; however, version 21.0.1 is available.\n",
      "You should consider upgrading via the '/usr/local/bin/python -m pip install --upgrade pip' command.\u001b[0m\n",
      "Note: you may need to restart the kernel to use updated packages.\n"
     ]
    }
   ],
   "source": [
    "pip install gensim"
   ]
  },
  {
   "cell_type": "markdown",
   "id": "mature-teens",
   "metadata": {},
   "source": [
    "## Dataset description\n",
    "\n",
    "* Traning examples will be 200 dimensional word vectors stacked vertically, representing the concatenation of title of abstract section of patents granted since 1970.\n",
    "\n",
    "* Tech_classes data will be 3 digits CPC classfication of patents\n",
    "\n",
    "* Citations_class will be a classification based on distribution of 5-year raw citation counts, within the given patent's CPC 3 digit technology class. Each patent has exactly one of the 4 following labels:\n",
    " 1. Citation count greater or euqal to the 99% percentile (top1%)\n",
    " 2. Citation count greater or equal to the 90% percentile ()\n",
    " 3. Citation count less than 90% percentile but at least 1 ()\n",
    " 4. Citation count is exactly 0 ()"
   ]
  },
  {
   "cell_type": "markdown",
   "id": "matched-peoples",
   "metadata": {},
   "source": [
    "## Patent RNN Model Architecture"
   ]
  },
  {
   "cell_type": "code",
   "execution_count": 4,
   "id": "pharmaceutical-motel",
   "metadata": {},
   "outputs": [],
   "source": [
    "#Import the dataframe\n",
    "dataframe = pd.read_csv(\"/floyd/input/patent_prerank_upd/patent_rank_upd.csv\")"
   ]
  },
  {
   "cell_type": "code",
   "execution_count": 9,
   "id": "technological-multimedia",
   "metadata": {},
   "outputs": [
    {
     "data": {
      "text/html": [
       "<div>\n",
       "<style scoped>\n",
       "    .dataframe tbody tr th:only-of-type {\n",
       "        vertical-align: middle;\n",
       "    }\n",
       "\n",
       "    .dataframe tbody tr th {\n",
       "        vertical-align: top;\n",
       "    }\n",
       "\n",
       "    .dataframe thead th {\n",
       "        text-align: right;\n",
       "    }\n",
       "</style>\n",
       "<table border=\"1\" class=\"dataframe\">\n",
       "  <thead>\n",
       "    <tr style=\"text-align: right;\">\n",
       "      <th></th>\n",
       "      <th>patent_id</th>\n",
       "      <th>abstract</th>\n",
       "      <th>title</th>\n",
       "      <th>five_year_fcite</th>\n",
       "      <th>subsection_id</th>\n",
       "      <th>date</th>\n",
       "      <th>label</th>\n",
       "    </tr>\n",
       "  </thead>\n",
       "  <tbody>\n",
       "    <tr>\n",
       "      <th>0</th>\n",
       "      <td>3930271</td>\n",
       "      <td>A golf glove is disclosed having an extra fing...</td>\n",
       "      <td>Golf glove</td>\n",
       "      <td>0</td>\n",
       "      <td>A63</td>\n",
       "      <td>1976-01-06</td>\n",
       "      <td>4</td>\n",
       "    </tr>\n",
       "    <tr>\n",
       "      <th>1</th>\n",
       "      <td>3930272</td>\n",
       "      <td>A lock for a height-adjustable crib or playpen...</td>\n",
       "      <td>Crib leg lock</td>\n",
       "      <td>0</td>\n",
       "      <td>A47</td>\n",
       "      <td>1976-01-06</td>\n",
       "      <td>4</td>\n",
       "    </tr>\n",
       "    <tr>\n",
       "      <th>2</th>\n",
       "      <td>3930273</td>\n",
       "      <td>A bed safety side rail arrangement which inclu...</td>\n",
       "      <td>Bed safety side rail arrangement</td>\n",
       "      <td>4</td>\n",
       "      <td>A61</td>\n",
       "      <td>1976-01-06</td>\n",
       "      <td>3</td>\n",
       "    </tr>\n",
       "    <tr>\n",
       "      <th>3</th>\n",
       "      <td>3930274</td>\n",
       "      <td>The assembly includes a longitudinal axis and ...</td>\n",
       "      <td>Assembly for use in recreational activities</td>\n",
       "      <td>0</td>\n",
       "      <td>B63</td>\n",
       "      <td>1976-01-06</td>\n",
       "      <td>4</td>\n",
       "    </tr>\n",
       "    <tr>\n",
       "      <th>4</th>\n",
       "      <td>3930275</td>\n",
       "      <td>A novel slipper and its method of fabrication ...</td>\n",
       "      <td>Method of fabricating a slipper</td>\n",
       "      <td>0</td>\n",
       "      <td>A43</td>\n",
       "      <td>1976-01-06</td>\n",
       "      <td>4</td>\n",
       "    </tr>\n",
       "    <tr>\n",
       "      <th>...</th>\n",
       "      <td>...</td>\n",
       "      <td>...</td>\n",
       "      <td>...</td>\n",
       "      <td>...</td>\n",
       "      <td>...</td>\n",
       "      <td>...</td>\n",
       "      <td>...</td>\n",
       "    </tr>\n",
       "    <tr>\n",
       "      <th>5159183</th>\n",
       "      <td>9119332</td>\n",
       "      <td>An assembly including a substrate, a metal wir...</td>\n",
       "      <td>Method of mounting devices in substrate and de...</td>\n",
       "      <td>0</td>\n",
       "      <td>H05</td>\n",
       "      <td>2015-08-25</td>\n",
       "      <td>4</td>\n",
       "    </tr>\n",
       "    <tr>\n",
       "      <th>5159184</th>\n",
       "      <td>9119333</td>\n",
       "      <td>A multilayer wiring board including a build-up...</td>\n",
       "      <td>Multilayer wiring board</td>\n",
       "      <td>0</td>\n",
       "      <td>H05</td>\n",
       "      <td>2015-08-25</td>\n",
       "      <td>4</td>\n",
       "    </tr>\n",
       "    <tr>\n",
       "      <th>5159185</th>\n",
       "      <td>9119334</td>\n",
       "      <td>A circuit board includes layers, a pair of via...</td>\n",
       "      <td>Method for manufacturing circuit board having ...</td>\n",
       "      <td>0</td>\n",
       "      <td>H05</td>\n",
       "      <td>2015-08-25</td>\n",
       "      <td>4</td>\n",
       "    </tr>\n",
       "    <tr>\n",
       "      <th>5159186</th>\n",
       "      <td>9119335</td>\n",
       "      <td>A method for manufacturing a rigid-flexible mu...</td>\n",
       "      <td>Method for manufacturing rigid-flexible multil...</td>\n",
       "      <td>0</td>\n",
       "      <td>H05</td>\n",
       "      <td>2015-08-25</td>\n",
       "      <td>4</td>\n",
       "    </tr>\n",
       "    <tr>\n",
       "      <th>5159187</th>\n",
       "      <td>9119336</td>\n",
       "      <td>A soldering method capable of alleviating posi...</td>\n",
       "      <td>Bonding structure manufacturing method, heatin...</td>\n",
       "      <td>2</td>\n",
       "      <td>B23</td>\n",
       "      <td>2015-08-25</td>\n",
       "      <td>3</td>\n",
       "    </tr>\n",
       "  </tbody>\n",
       "</table>\n",
       "<p>5159188 rows × 7 columns</p>\n",
       "</div>"
      ],
      "text/plain": [
       "         patent_id                                           abstract  \\\n",
       "0          3930271  A golf glove is disclosed having an extra fing...   \n",
       "1          3930272  A lock for a height-adjustable crib or playpen...   \n",
       "2          3930273  A bed safety side rail arrangement which inclu...   \n",
       "3          3930274  The assembly includes a longitudinal axis and ...   \n",
       "4          3930275  A novel slipper and its method of fabrication ...   \n",
       "...            ...                                                ...   \n",
       "5159183    9119332  An assembly including a substrate, a metal wir...   \n",
       "5159184    9119333  A multilayer wiring board including a build-up...   \n",
       "5159185    9119334  A circuit board includes layers, a pair of via...   \n",
       "5159186    9119335  A method for manufacturing a rigid-flexible mu...   \n",
       "5159187    9119336  A soldering method capable of alleviating posi...   \n",
       "\n",
       "                                                     title  five_year_fcite  \\\n",
       "0                                               Golf glove                0   \n",
       "1                                            Crib leg lock                0   \n",
       "2                         Bed safety side rail arrangement                4   \n",
       "3              Assembly for use in recreational activities                0   \n",
       "4                          Method of fabricating a slipper                0   \n",
       "...                                                    ...              ...   \n",
       "5159183  Method of mounting devices in substrate and de...                0   \n",
       "5159184                            Multilayer wiring board                0   \n",
       "5159185  Method for manufacturing circuit board having ...                0   \n",
       "5159186  Method for manufacturing rigid-flexible multil...                0   \n",
       "5159187  Bonding structure manufacturing method, heatin...                2   \n",
       "\n",
       "        subsection_id        date  label  \n",
       "0                 A63  1976-01-06      4  \n",
       "1                 A47  1976-01-06      4  \n",
       "2                 A61  1976-01-06      3  \n",
       "3                 B63  1976-01-06      4  \n",
       "4                 A43  1976-01-06      4  \n",
       "...               ...         ...    ...  \n",
       "5159183           H05  2015-08-25      4  \n",
       "5159184           H05  2015-08-25      4  \n",
       "5159185           H05  2015-08-25      4  \n",
       "5159186           H05  2015-08-25      4  \n",
       "5159187           B23  2015-08-25      3  \n",
       "\n",
       "[5159188 rows x 7 columns]"
      ]
     },
     "execution_count": 9,
     "metadata": {},
     "output_type": "execute_result"
    }
   ],
   "source": [
    "dataframe"
   ]
  },
  {
   "cell_type": "code",
   "execution_count": 29,
   "id": "therapeutic-magazine",
   "metadata": {},
   "outputs": [],
   "source": [
    "def Patent_RNN_Model(input_shape = [200, 200], class_num = 4):\n",
    "    \"\"\"\n",
    "    Function creating the Emojify-v2 model's graph.\n",
    "    \n",
    "    Arguments:\n",
    "    input_shape -- shape of the input, usually (max_len,)\n",
    "    word_to_vec_map -- dictionary mapping every word in a vocabulary into its 50-dimensional vector representation\n",
    "    word_to_index -- dictionary mapping from words to their indices in the vocabulary (400,001 words)\n",
    "\n",
    "    Returns:\n",
    "    model -- a model instance in Keras\n",
    "    \"\"\"\n",
    "    \n",
    "    embeddings = Input(shape=input_shape) \n",
    "    \n",
    "    # Propagate the embeddings through an LSTM layer with 128-dimensional hidden state\n",
    "    # The returned output should be a batch of sequences.\n",
    "    X = LSTM(units = 128, return_sequences= True)(embeddings)#Set the units and return_sequences parameters.\n",
    "    # Add dropout with a probability of 0.5\n",
    "    X = Dropout(rate = 0.5)(X)\n",
    "    \n",
    "    # Propagate X trough another LSTM layer with 128-dimensional hidden state\n",
    "    # The returned output should be a single hidden state, not a batch of sequences.\n",
    "    X = LSTM(units = 128, return_sequences= False)(X)\n",
    "    \n",
    "    # Add dropout with a probability of 0.5\n",
    "    X = Dropout(rate = 0.5)(X)\n",
    "    # Propagate X through a Dense layer with 5 units\n",
    "    X = Dense(units = class_num)(X)\n",
    "    # Add a softmax activation\n",
    "    X = Activation(\"softmax\")(X)\n",
    "    \n",
    "    # Create Model instance which converts sentence_indices into X.\n",
    "    model = Model(inputs = embeddings, outputs = X)\n",
    "    \n",
    "    ### END CODE HERE ###\n",
    "    \n",
    "    return model"
   ]
  },
  {
   "cell_type": "markdown",
   "id": "coated-paraguay",
   "metadata": {},
   "source": [
    "## Training"
   ]
  },
  {
   "cell_type": "code",
   "execution_count": 25,
   "id": "uniform-contact",
   "metadata": {},
   "outputs": [],
   "source": [
    "word_vectors_sg = KeyedVectors.load('word2vec_sg.wordvectors')\n",
    "\n",
    "def matrix_generator(dataframe, list_IDs_temp, min_len = 50, max_len = 200, dim = (200, 200)):\n",
    "     '''\n",
    "    Input:\n",
    "    filename: name of the csv file we want to read data from\n",
    "    list_TDs_temp: indeces for minibatch\n",
    "    min_len: minimum number of tokenized words for a title + abstraction text\n",
    "    max_len: maximum number of tokenized words for a title + abstraction text\n",
    "    dim: dimension of outputing matrix representation of text\n",
    "    \n",
    "    Output:\n",
    "    X: batch of matrix representations of num_doc number of title+abstraction texts\n",
    "    y: labels\n",
    "    '''\n",
    "    batch_size = len(list_IDs_temp)\n",
    "    X = np.zeros((batch_size, *dim))\n",
    "    y = np.zeros((1, batch_size), dtype = int)\n",
    "    counter = 0\n",
    "    \n",
    "    for idx in list_IDs_temp:\n",
    "        if dataframe.iloc[idx][\"abstract\"] == 'NULL':\n",
    "            line = re.sub('[^a-zA-Z0-9]', ' ', str(dataframe.iloc[idx][\"title\"])) # remove non-letters and non-numbers\n",
    "            bool_list = [word in word_vectors_sg for word in utils.simple_preprocess(line)]\n",
    "            filtered_line = list(compress(utils.simple_preprocess(line), bool_list)) #some infrequency words are not included in the vocab, \n",
    "            #we remove then\n",
    "            length = len(filtered_line)\n",
    "            if length >= min_len:\n",
    "                matrix = word_vectors_sg[filtered_line] # generate document matrix representation from tokens\n",
    "                X_row = np.pad(matrix, ((0, max_len - length),(0, 0))).reshape([*dim])\n",
    "                X[counter] = X_row\n",
    "                y[0, counter] = dataframe.iloc[idx][\"label\"] - 1\n",
    "        else:\n",
    "            line = re.sub('[^a-zA-Z0-9]', ' ', str(dataframe.iloc[idx][\"title\"]) + ' ' + str(dataframe.iloc[idx][\"abstract\"])) # remove non-letters and non-numbers\n",
    "            bool_list = [word in word_vectors_sg for word in utils.simple_preprocess(line)]\n",
    "            filtered_line = list(compress(utils.simple_preprocess(line), bool_list)) #some infrequent words are not included in the vocab, \n",
    "            #we remove then\n",
    "            length = len(filtered_line)\n",
    "            if length >= min_len and length <= max_len:\n",
    "                matrix = word_vectors_sg[filtered_line] # generate document matrix representation from tokens\n",
    "                X_row = np.pad(matrix, ((0, max_len - length),(0, 0))).reshape([*dim])\n",
    "                X[counter] = X_row\n",
    "                y[0, counter] = dataframe.iloc[idx][\"label\"] - 1\n",
    "            elif length > max_len:\n",
    "                matrix = word_vectors_sg[filtered_line[0:max_len]] # generate document matrix representation from tokens\n",
    "                X_row = matrix.reshape([*dim])\n",
    "                X[counter] = X_row\n",
    "                y[0, counter] = dataframe.iloc[idx][\"label\"] - 1\n",
    "        counter += 1\n",
    "    return X, np.squeeze(y)"
   ]
  },
  {
   "cell_type": "code",
   "execution_count": 128,
   "id": "diverse-trinity",
   "metadata": {},
   "outputs": [],
   "source": [
    "class DataGenerator(Sequence): #This generator is for generating the minibatches for training purpose\n",
    "    'Generates data for Keras'\n",
    "    def __init__(self, dataframe, batch_size=100, text_length = 200,\n",
    "                 n_classes=4, shuffle=False):\n",
    "        'Initialization'\n",
    "        self.dataframe = dataframe\n",
    "        self.batch_size = batch_size\n",
    "        self.list_IDs = list(range(len(dataframe.loc[:, \"patent_id\"])))\n",
    "        self.n_classes = n_classes\n",
    "        self.shuffle = shuffle\n",
    "        self.on_epoch_end()\n",
    "        self.n = 0\n",
    "        self.max = self.__len__()\n",
    "\n",
    "    def __len__(self):\n",
    "        'Denotes the number of batches per epoch'\n",
    "        return int(np.floor(len(self.dataframe.loc[:, \"patent_id\"]) / self.batch_size))\n",
    "\n",
    "    def __getitem__(self, index):\n",
    "        'Generate one batch of data'\n",
    "        # Generate indexes of the batch\n",
    "        indexes = self.indexes[index*self.batch_size:(index+1)*self.batch_size]\n",
    "\n",
    "        # Find list of IDs\n",
    "        list_IDs_temp = [self.list_IDs[k] for k in indexes]\n",
    "\n",
    "        # Generate data\n",
    "        X, y = self.__data_generation(list_IDs_temp)\n",
    "\n",
    "        return X, y\n",
    "\n",
    "    def on_epoch_end(self):\n",
    "        'Updates indexes after each epoch'\n",
    "        self.indexes = np.arange(len(self.list_IDs))\n",
    "        if self.shuffle == True:\n",
    "            np.random.shuffle(self.indexes)\n",
    "\n",
    "    def __data_generation(self, list_IDs_temp):\n",
    "        'Generates data containing batch_size samples' # X : (n_samples, *dim, n_channels)\n",
    "        X, y = matrix_generator(self.dataframe, list_IDs_temp)\n",
    "        return X, to_categorical(y, num_classes=self.n_classes)\n",
    "    \n",
    "    #def __next__(self):\n",
    "        #if self.n >= self.max:\n",
    "           #self.n = 0\n",
    "        #y = self.__getitem__(self.n)\n",
    "        #self.n += 1\n",
    "        #return y"
   ]
  },
  {
   "cell_type": "code",
   "execution_count": 149,
   "id": "desirable-roman",
   "metadata": {},
   "outputs": [],
   "source": [
    "class DataGenerator2(Sequence): #This generator is for generating the ground true label\n",
    "    'Generates data for Keras'\n",
    "    def __init__(self, dataframe, batch_size=100, text_length = 200,\n",
    "                 n_classes=4, shuffle=False):\n",
    "        'Initialization'\n",
    "        self.dataframe = dataframe\n",
    "        self.batch_size = batch_size\n",
    "        self.list_IDs = list(range(len(dataframe.loc[:, \"patent_id\"])))\n",
    "        self.n_classes = n_classes\n",
    "        self.shuffle = shuffle\n",
    "        self.on_epoch_end()\n",
    "        self.n = 0\n",
    "        self.max = self.__len__()\n",
    "\n",
    "    def __len__(self):\n",
    "        'Denotes the number of batches per epoch'\n",
    "        return int(np.floor(len(self.dataframe.loc[:, \"patent_id\"]) / self.batch_size))\n",
    "\n",
    "    def __getitem__(self, index):\n",
    "        'Generate one batch of data'\n",
    "        # Generate indexes of the batch\n",
    "        indexes = self.indexes[index*self.batch_size:(index+1)*self.batch_size]\n",
    "\n",
    "        # Find list of IDs\n",
    "        list_IDs_temp = [self.list_IDs[k] for k in indexes]\n",
    "\n",
    "        # Generate data\n",
    "        y = self.__data_generation(list_IDs_temp)\n",
    "\n",
    "        return y\n",
    "\n",
    "    def on_epoch_end(self):\n",
    "        'Updates indexes after each epoch'\n",
    "        self.indexes = np.arange(len(self.list_IDs))\n",
    "        if self.shuffle == True:\n",
    "            np.random.shuffle(self.indexes)\n",
    "\n",
    "    def __data_generation(self, list_IDs_temp):\n",
    "        'Generates data containing batch_size samples' # X : (n_samples, *dim, n_channels)\n",
    "        _, y = matrix_generator(self.dataframe, list_IDs_temp)\n",
    "        return to_categorical(y, num_classes=self.n_classes)\n",
    "    \n",
    "    def __next__(self):\n",
    "        if self.n >= self.max:\n",
    "           self.n = 0\n",
    "        y = self.__getitem__(self.n)\n",
    "        self.n += 1\n",
    "        return y"
   ]
  },
  {
   "cell_type": "code",
   "execution_count": 6,
   "id": "fluid-packing",
   "metadata": {},
   "outputs": [],
   "source": [
    "train = dataframe.loc[dataframe[\"date\"] < '2011-01-01'] \n",
    "test = pd.concat([dataframe,train]).drop_duplicates(keep=False)\n",
    "\n",
    "# Generators\n",
    "training_generator = DataGenerator(train)\n",
    "validation_generator = DataGenerator(test)"
   ]
  },
  {
   "cell_type": "code",
   "execution_count": 30,
   "id": "understanding-small",
   "metadata": {},
   "outputs": [
    {
     "name": "stdout",
     "output_type": "stream",
     "text": [
      "Model: \"model\"\n",
      "_________________________________________________________________\n",
      "Layer (type)                 Output Shape              Param #   \n",
      "=================================================================\n",
      "input_1 (InputLayer)         [(None, 200, 200)]        0         \n",
      "_________________________________________________________________\n",
      "lstm_2 (LSTM)                (None, 200, 128)          168448    \n",
      "_________________________________________________________________\n",
      "dropout_2 (Dropout)          (None, 200, 128)          0         \n",
      "_________________________________________________________________\n",
      "lstm_3 (LSTM)                (None, 128)               131584    \n",
      "_________________________________________________________________\n",
      "dropout_3 (Dropout)          (None, 128)               0         \n",
      "_________________________________________________________________\n",
      "dense (Dense)                (None, 4)                 516       \n",
      "_________________________________________________________________\n",
      "activation (Activation)      (None, 4)                 0         \n",
      "=================================================================\n",
      "Total params: 300,548\n",
      "Trainable params: 300,548\n",
      "Non-trainable params: 0\n",
      "_________________________________________________________________\n"
     ]
    }
   ],
   "source": [
    "patentmodel = Patent_RNN_Model()\n",
    "patentmodel.summary()"
   ]
  },
  {
   "cell_type": "code",
   "execution_count": 31,
   "id": "assured-modeling",
   "metadata": {},
   "outputs": [],
   "source": [
    "patentmodel.compile(loss='categorical_crossentropy', optimizer='adam', metrics=['accuracy'])"
   ]
  },
  {
   "cell_type": "code",
   "execution_count": 15,
   "id": "express-holmes",
   "metadata": {},
   "outputs": [
    {
     "name": "stdout",
     "output_type": "stream",
     "text": [
      "Epoch 1/5\n",
      "39107/39107 [==============================] - 11268s 288ms/step - loss: 0.8634 - accuracy: 0.6306 - val_loss: 0.9560 - val_accuracy: 0.5414\n",
      "Epoch 2/5\n",
      "39107/39107 [==============================] - 11268s 288ms/step - loss: 0.8420 - accuracy: 0.6338 - val_loss: 0.9500 - val_accuracy: 0.5376\n",
      "Epoch 3/5\n",
      "39107/39107 [==============================] - 11332s 290ms/step - loss: 0.8343 - accuracy: 0.6350 - val_loss: 0.9461 - val_accuracy: 0.5412\n",
      "Epoch 4/5\n",
      "39107/39107 [==============================] - 11284s 289ms/step - loss: 0.8291 - accuracy: 0.6357 - val_loss: 0.9496 - val_accuracy: 0.5394\n",
      "Epoch 5/5\n",
      "39107/39107 [==============================] - 11318s 289ms/step - loss: 0.8277 - accuracy: 0.6354 - val_loss: 0.9366 - val_accuracy: 0.5480\n"
     ]
    },
    {
     "data": {
      "text/plain": [
       "<tensorflow.python.keras.callbacks.History at 0x7f84e41160d0>"
      ]
     },
     "execution_count": 15,
     "metadata": {},
     "output_type": "execute_result"
    }
   ],
   "source": [
    "patentmodel.fit(training_generator, validation_data = validation_generator, epochs = 5)"
   ]
  },
  {
   "cell_type": "code",
   "execution_count": 16,
   "id": "imposed-effects",
   "metadata": {},
   "outputs": [
    {
     "name": "stdout",
     "output_type": "stream",
     "text": [
      "WARNING:tensorflow:From /usr/local/lib/python3.7/site-packages/tensorflow/python/ops/resource_variable_ops.py:1817: calling BaseResourceVariable.__init__ (from tensorflow.python.ops.resource_variable_ops) with constraint is deprecated and will be removed in a future version.\n",
      "Instructions for updating:\n",
      "If using Keras pass *_constraint arguments to layers.\n",
      "INFO:tensorflow:Assets written to: RNN_citation_v2/assets\n"
     ]
    }
   ],
   "source": [
    "patentmodel.save('RNN_citation_v2')"
   ]
  },
  {
   "cell_type": "code",
   "execution_count": 32,
   "id": "designed-algeria",
   "metadata": {},
   "outputs": [],
   "source": [
    "patentmodel = load_model('RNN_citation_v2')"
   ]
  },
  {
   "cell_type": "markdown",
   "id": "plastic-treasury",
   "metadata": {},
   "source": [
    "# Test and calculation of performance metrics"
   ]
  },
  {
   "cell_type": "code",
   "execution_count": 10,
   "id": "refined-contribution",
   "metadata": {},
   "outputs": [],
   "source": [
    "test_2011 = test.loc[(dataframe[\"date\"] >= '2011-01-01') & (dataframe[\"date\"] < '2012-01-01')] "
   ]
  },
  {
   "cell_type": "code",
   "execution_count": 11,
   "id": "acceptable-delay",
   "metadata": {},
   "outputs": [],
   "source": [
    "test_2012 = test.loc[(dataframe[\"date\"] >= '2012-01-01') & (dataframe[\"date\"] < '2013-01-01')] "
   ]
  },
  {
   "cell_type": "code",
   "execution_count": 18,
   "id": "discrete-disclaimer",
   "metadata": {},
   "outputs": [],
   "source": [
    "test_2013 = test.loc[(dataframe[\"date\"] >= '2013-01-01') & (dataframe[\"date\"] < '2014-01-01')] "
   ]
  },
  {
   "cell_type": "code",
   "execution_count": 19,
   "id": "photographic-yacht",
   "metadata": {},
   "outputs": [],
   "source": [
    "test_2014 = test.loc[(dataframe[\"date\"] >= '2014-01-01') & (dataframe[\"date\"] < '2015-01-01')] "
   ]
  },
  {
   "cell_type": "code",
   "execution_count": 20,
   "id": "governmental-cosmetic",
   "metadata": {},
   "outputs": [],
   "source": [
    "test_2015 = test.loc[dataframe[\"date\"] >= '2015-01-01'] "
   ]
  },
  {
   "cell_type": "code",
   "execution_count": 180,
   "id": "broken-stuart",
   "metadata": {},
   "outputs": [
    {
     "name": "stdout",
     "output_type": "stream",
     "text": [
      "(1248439, 7)\n",
      "(224496, 7)\n",
      "(253145, 7)\n",
      "(277813, 7)\n",
      "(300655, 7)\n",
      "(192330, 7)\n",
      "1248439\n"
     ]
    }
   ],
   "source": [
    "print(test.shape)\n",
    "print(test_2011.shape)\n",
    "print(test_2012.shape)\n",
    "print(test_2013.shape)\n",
    "print(test_2014.shape)\n",
    "print(test_2015.shape)\n",
    "print(test_2011.shape[0] + test_2012.shape[0] + test_2013.shape[0] + test_2014.shape[0] + test_2015.shape[0])"
   ]
  },
  {
   "cell_type": "code",
   "execution_count": 129,
   "id": "through-bangkok",
   "metadata": {},
   "outputs": [],
   "source": [
    "validation_generator_2011 = DataGenerator(test_2011)\n",
    "validation_generator_2012 = DataGenerator(test_2012)\n",
    "validation_generator_2013 = DataGenerator(test_2013)\n",
    "validation_generator_2014 = DataGenerator(test_2014)\n",
    "validation_generator_2015 = DataGenerator(test_2015)"
   ]
  },
  {
   "cell_type": "code",
   "execution_count": 130,
   "id": "vital-alaska",
   "metadata": {},
   "outputs": [
    {
     "name": "stdout",
     "output_type": "stream",
     "text": [
      "2244/2244 [==============================] - 470s 209ms/step - loss: 0.8957 - accuracy: 0.5855\n"
     ]
    },
    {
     "data": {
      "text/plain": [
       "[0.8957116603851318, 0.5855302810668945]"
      ]
     },
     "execution_count": 130,
     "metadata": {},
     "output_type": "execute_result"
    }
   ],
   "source": [
    "patentmodel.evaluate(validation_generator_2011)"
   ]
  },
  {
   "cell_type": "code",
   "execution_count": 132,
   "id": "herbal-clerk",
   "metadata": {},
   "outputs": [
    {
     "name": "stdout",
     "output_type": "stream",
     "text": [
      "2531/2531 [==============================] - 531s 210ms/step - loss: 0.9152 - accuracy: 0.5689\n"
     ]
    },
    {
     "data": {
      "text/plain": [
       "[0.9151543378829956, 0.5689292550086975]"
      ]
     },
     "execution_count": 132,
     "metadata": {},
     "output_type": "execute_result"
    }
   ],
   "source": [
    "patentmodel.evaluate(validation_generator_2012)"
   ]
  },
  {
   "cell_type": "code",
   "execution_count": 133,
   "id": "adolescent-chemistry",
   "metadata": {},
   "outputs": [
    {
     "name": "stdout",
     "output_type": "stream",
     "text": [
      "2778/2778 [==============================] - 582s 209ms/step - loss: 0.9404 - accuracy: 0.5463\n"
     ]
    },
    {
     "data": {
      "text/plain": [
       "[0.9403634071350098, 0.546310305595398]"
      ]
     },
     "execution_count": 133,
     "metadata": {},
     "output_type": "execute_result"
    }
   ],
   "source": [
    "patentmodel.evaluate(validation_generator_2013)"
   ]
  },
  {
   "cell_type": "code",
   "execution_count": 134,
   "id": "retired-principal",
   "metadata": {},
   "outputs": [
    {
     "name": "stdout",
     "output_type": "stream",
     "text": [
      "3006/3006 [==============================] - 629s 209ms/step - loss: 0.9599 - accuracy: 0.5266\n"
     ]
    },
    {
     "data": {
      "text/plain": [
       "[0.9599047899246216, 0.5265569090843201]"
      ]
     },
     "execution_count": 134,
     "metadata": {},
     "output_type": "execute_result"
    }
   ],
   "source": [
    "patentmodel.evaluate(validation_generator_2014)"
   ]
  },
  {
   "cell_type": "code",
   "execution_count": 135,
   "id": "demographic-submission",
   "metadata": {},
   "outputs": [
    {
     "name": "stdout",
     "output_type": "stream",
     "text": [
      "1923/1923 [==============================] - 404s 210ms/step - loss: 0.9702 - accuracy: 0.5126\n"
     ]
    },
    {
     "data": {
      "text/plain": [
       "[0.9702480435371399, 0.5126364827156067]"
      ]
     },
     "execution_count": 135,
     "metadata": {},
     "output_type": "execute_result"
    }
   ],
   "source": [
    "patentmodel.evaluate(validation_generator_2015)"
   ]
  },
  {
   "cell_type": "code",
   "execution_count": 137,
   "id": "indonesian-piano",
   "metadata": {},
   "outputs": [],
   "source": [
    "prediction_2011 = patentmodel.predict(validation_generator_2011)"
   ]
  },
  {
   "cell_type": "code",
   "execution_count": 119,
   "id": "bizarre-contemporary",
   "metadata": {},
   "outputs": [
    {
     "data": {
      "text/plain": [
       "(224400, 4)"
      ]
     },
     "execution_count": 119,
     "metadata": {},
     "output_type": "execute_result"
    }
   ],
   "source": [
    "prediction_2011.shape"
   ]
  },
  {
   "cell_type": "code",
   "execution_count": 141,
   "id": "marked-practitioner",
   "metadata": {},
   "outputs": [],
   "source": [
    "prediction_2012 = patentmodel.predict(validation_generator_2012)"
   ]
  },
  {
   "cell_type": "code",
   "execution_count": 142,
   "id": "northern-sweet",
   "metadata": {},
   "outputs": [],
   "source": [
    "prediction_2013 = patentmodel.predict(validation_generator_2013)"
   ]
  },
  {
   "cell_type": "code",
   "execution_count": 143,
   "id": "collaborative-craps",
   "metadata": {},
   "outputs": [],
   "source": [
    "prediction_2014 = patentmodel.predict(validation_generator_2014)"
   ]
  },
  {
   "cell_type": "code",
   "execution_count": 144,
   "id": "decimal-residence",
   "metadata": {},
   "outputs": [],
   "source": [
    "prediction_2015 = patentmodel.predict(validation_generator_2015)"
   ]
  },
  {
   "cell_type": "code",
   "execution_count": 138,
   "id": "utility-italian",
   "metadata": {},
   "outputs": [],
   "source": [
    "classes_prediction_2011 = np.argmax(prediction_2011, axis = 1)"
   ]
  },
  {
   "cell_type": "code",
   "execution_count": 145,
   "id": "polished-estimate",
   "metadata": {},
   "outputs": [],
   "source": [
    "classes_prediction_2012 = np.argmax(prediction_2012, axis = 1)"
   ]
  },
  {
   "cell_type": "code",
   "execution_count": 146,
   "id": "fourth-lying",
   "metadata": {},
   "outputs": [],
   "source": [
    "classes_prediction_2013 = np.argmax(prediction_2013, axis = 1)"
   ]
  },
  {
   "cell_type": "code",
   "execution_count": 147,
   "id": "grand-bolivia",
   "metadata": {},
   "outputs": [],
   "source": [
    "classes_prediction_2014 = np.argmax(prediction_2014, axis = 1)"
   ]
  },
  {
   "cell_type": "code",
   "execution_count": 148,
   "id": "light-expert",
   "metadata": {},
   "outputs": [],
   "source": [
    "classes_prediction_2015 = np.argmax(prediction_2015, axis = 1)"
   ]
  },
  {
   "cell_type": "code",
   "execution_count": 150,
   "id": "attended-girlfriend",
   "metadata": {},
   "outputs": [],
   "source": [
    "validation_generator2_2011 = DataGenerator2(test_2011)\n",
    "validation_generator2_2012 = DataGenerator2(test_2012)\n",
    "validation_generator2_2013 = DataGenerator2(test_2013)\n",
    "validation_generator2_2014 = DataGenerator2(test_2014)\n",
    "validation_generator2_2015 = DataGenerator2(test_2015)"
   ]
  },
  {
   "cell_type": "code",
   "execution_count": 123,
   "id": "greek-value",
   "metadata": {},
   "outputs": [],
   "source": [
    "labels = []\n",
    "for i in range(224496 // 100):\n",
    "    y = next(validation_generator2_2011)\n",
    "    labels.append(y) "
   ]
  },
  {
   "cell_type": "code",
   "execution_count": 159,
   "id": "existing-venue",
   "metadata": {},
   "outputs": [],
   "source": [
    "ground_true_2011 = np.vstack(labels)"
   ]
  },
  {
   "cell_type": "code",
   "execution_count": 160,
   "id": "irish-edmonton",
   "metadata": {},
   "outputs": [],
   "source": [
    "ground_true_2011_int = np.argmax(ground_true_2011, axis=1)"
   ]
  },
  {
   "cell_type": "code",
   "execution_count": 166,
   "id": "seventh-bench",
   "metadata": {},
   "outputs": [
    {
     "data": {
      "text/plain": [
       "224400"
      ]
     },
     "execution_count": 166,
     "metadata": {},
     "output_type": "execute_result"
    }
   ],
   "source": [
    "len(ground_true_2011_int)"
   ]
  },
  {
   "cell_type": "code",
   "execution_count": 217,
   "id": "dependent-lawrence",
   "metadata": {},
   "outputs": [],
   "source": [
    "bool_list_top1_2011 = []\n",
    "num_top1_2011 = 0\n",
    "for i in range(224400):\n",
    "    if ground_true_2011_int[i] == 0:\n",
    "        num_top1_2011 += 1\n",
    "        if ground_true_2011_int[i] == classes_prediction_2011[i]:\n",
    "            bool_list_top1_2011.append(True)\n",
    "        else:\n",
    "            bool_list_top1_2011.append(False)\n",
    "        "
   ]
  },
  {
   "cell_type": "code",
   "execution_count": 218,
   "id": "grand-pilot",
   "metadata": {},
   "outputs": [
    {
     "data": {
      "text/plain": [
       "0.8375007285656001"
      ]
     },
     "execution_count": 218,
     "metadata": {},
     "output_type": "execute_result"
    }
   ],
   "source": [
    "sum(bool_list_top1_2011) / num_top1_2011"
   ]
  },
  {
   "cell_type": "code",
   "execution_count": 151,
   "id": "serious-reach",
   "metadata": {},
   "outputs": [],
   "source": [
    "labels2 = []\n",
    "for i in range(253145 // 100):\n",
    "    y = next(validation_generator2_2012)\n",
    "    labels2.append(y) "
   ]
  },
  {
   "cell_type": "code",
   "execution_count": 152,
   "id": "molecular-bermuda",
   "metadata": {},
   "outputs": [],
   "source": [
    "ground_true_2012 = np.vstack(labels2)"
   ]
  },
  {
   "cell_type": "code",
   "execution_count": 153,
   "id": "signal-bracket",
   "metadata": {},
   "outputs": [],
   "source": [
    "ground_true_2012_int = np.argmax(ground_true_2012, axis=1)"
   ]
  },
  {
   "cell_type": "code",
   "execution_count": 163,
   "id": "respective-israeli",
   "metadata": {},
   "outputs": [
    {
     "data": {
      "text/plain": [
       "253100"
      ]
     },
     "execution_count": 163,
     "metadata": {},
     "output_type": "execute_result"
    }
   ],
   "source": [
    "len(ground_true_2012_int)"
   ]
  },
  {
   "cell_type": "code",
   "execution_count": 219,
   "id": "adolescent-ordinary",
   "metadata": {},
   "outputs": [],
   "source": [
    "bool_list_top1_2012 = []\n",
    "num_top1_2012 = 0\n",
    "for i in range(253100):\n",
    "    if ground_true_2012_int[i] == 0:\n",
    "        num_top1_2012 += 1\n",
    "        if ground_true_2012_int[i] == classes_prediction_2012[i]:\n",
    "            bool_list_top1_2012.append(True)\n",
    "        else:\n",
    "            bool_list_top1_2012.append(False)"
   ]
  },
  {
   "cell_type": "code",
   "execution_count": 220,
   "id": "nearby-marking",
   "metadata": {},
   "outputs": [
    {
     "data": {
      "text/plain": [
       "0.8231519507186859"
      ]
     },
     "execution_count": 220,
     "metadata": {},
     "output_type": "execute_result"
    }
   ],
   "source": [
    "sum(bool_list_top1_2012) / num_top1_2012"
   ]
  },
  {
   "cell_type": "code",
   "execution_count": 167,
   "id": "consistent-fiber",
   "metadata": {},
   "outputs": [],
   "source": [
    "labels3 = []\n",
    "for i in range(277813 // 100):\n",
    "    y = next(validation_generator2_2013)\n",
    "    labels3.append(y) "
   ]
  },
  {
   "cell_type": "code",
   "execution_count": 168,
   "id": "disabled-nelson",
   "metadata": {},
   "outputs": [],
   "source": [
    "ground_true_2013 = np.vstack(labels3)"
   ]
  },
  {
   "cell_type": "code",
   "execution_count": 169,
   "id": "steady-island",
   "metadata": {},
   "outputs": [],
   "source": [
    "ground_true_2013_int = np.argmax(ground_true_2013, axis=1)"
   ]
  },
  {
   "cell_type": "code",
   "execution_count": 170,
   "id": "capable-species",
   "metadata": {},
   "outputs": [
    {
     "data": {
      "text/plain": [
       "277800"
      ]
     },
     "execution_count": 170,
     "metadata": {},
     "output_type": "execute_result"
    }
   ],
   "source": [
    "len(ground_true_2013_int)"
   ]
  },
  {
   "cell_type": "code",
   "execution_count": 221,
   "id": "prime-services",
   "metadata": {},
   "outputs": [],
   "source": [
    "bool_list_top1_2013 = []\n",
    "num_top1_2013 = 0\n",
    "for i in range(277800):\n",
    "    if ground_true_2013_int[i] == 0:\n",
    "        num_top1_2013 += 1\n",
    "        if ground_true_2013_int[i] == classes_prediction_2013[i]:\n",
    "            bool_list_top1_2013.append(True)\n",
    "        else:\n",
    "            bool_list_top1_2013.append(False)"
   ]
  },
  {
   "cell_type": "code",
   "execution_count": 222,
   "id": "protected-cliff",
   "metadata": {},
   "outputs": [
    {
     "data": {
      "text/plain": [
       "0.8270931326434618"
      ]
     },
     "execution_count": 222,
     "metadata": {},
     "output_type": "execute_result"
    }
   ],
   "source": [
    "sum(bool_list_top1_2013) / num_top1_2013"
   ]
  },
  {
   "cell_type": "code",
   "execution_count": 176,
   "id": "electronic-andrew",
   "metadata": {},
   "outputs": [],
   "source": [
    "labels4 = []\n",
    "for i in range(300655 // 100):\n",
    "    y = next(validation_generator2_2014)\n",
    "    labels4.append(y) "
   ]
  },
  {
   "cell_type": "code",
   "execution_count": 177,
   "id": "virgin-drama",
   "metadata": {},
   "outputs": [],
   "source": [
    "ground_true_2014 = np.vstack(labels4)"
   ]
  },
  {
   "cell_type": "code",
   "execution_count": 178,
   "id": "engaged-blackjack",
   "metadata": {},
   "outputs": [],
   "source": [
    "ground_true_2014_int = np.argmax(ground_true_2014, axis=1)"
   ]
  },
  {
   "cell_type": "code",
   "execution_count": 179,
   "id": "sharing-export",
   "metadata": {},
   "outputs": [
    {
     "data": {
      "text/plain": [
       "300600"
      ]
     },
     "execution_count": 179,
     "metadata": {},
     "output_type": "execute_result"
    }
   ],
   "source": [
    "len(ground_true_2014_int)"
   ]
  },
  {
   "cell_type": "code",
   "execution_count": 227,
   "id": "tough-holiday",
   "metadata": {},
   "outputs": [],
   "source": [
    "bool_list_top1_2014 = []\n",
    "num_top1_2014 = 0\n",
    "for i in range(300600):\n",
    "    if ground_true_2014_int[i] == 0:\n",
    "        num_top1_2014 += 1\n",
    "        if ground_true_2014_int[i] == classes_prediction_2014[i]:\n",
    "            bool_list_top1_2014.append(True)\n",
    "        else:\n",
    "            bool_list_top1_2014.append(False)"
   ]
  },
  {
   "cell_type": "code",
   "execution_count": 228,
   "id": "recent-publication",
   "metadata": {},
   "outputs": [
    {
     "data": {
      "text/plain": [
       "0.8289172535211268"
      ]
     },
     "execution_count": 228,
     "metadata": {},
     "output_type": "execute_result"
    }
   ],
   "source": [
    "sum(bool_list_top1_2014) / num_top1_2014 "
   ]
  },
  {
   "cell_type": "code",
   "execution_count": 183,
   "id": "based-congress",
   "metadata": {},
   "outputs": [],
   "source": [
    "labels5 = []\n",
    "for i in range(192330 // 100):\n",
    "    y = next(validation_generator2_2015)\n",
    "    labels5.append(y) "
   ]
  },
  {
   "cell_type": "code",
   "execution_count": 184,
   "id": "tough-questionnaire",
   "metadata": {},
   "outputs": [],
   "source": [
    "ground_true_2015 = np.vstack(labels5)"
   ]
  },
  {
   "cell_type": "code",
   "execution_count": 185,
   "id": "patent-second",
   "metadata": {},
   "outputs": [],
   "source": [
    "ground_true_2015_int = np.argmax(ground_true_2015, axis=1)"
   ]
  },
  {
   "cell_type": "code",
   "execution_count": 211,
   "id": "fifty-dominican",
   "metadata": {},
   "outputs": [
    {
     "data": {
      "text/plain": [
       "192300"
      ]
     },
     "execution_count": 211,
     "metadata": {},
     "output_type": "execute_result"
    }
   ],
   "source": [
    "len(ground_true_2015_int)"
   ]
  },
  {
   "cell_type": "code",
   "execution_count": 225,
   "id": "ahead-cutting",
   "metadata": {},
   "outputs": [],
   "source": [
    "bool_list_top1_2015 = []\n",
    "num_top1_2015 = 0\n",
    "for i in range(192300):\n",
    "    if ground_true_2015_int[i] == 0:\n",
    "        num_top1_2015 += 1\n",
    "        if ground_true_2015_int[i] == classes_prediction_2015[i]:\n",
    "            bool_list_top1_2015.append(True)\n",
    "        else:\n",
    "            bool_list_top1_2015.append(False)"
   ]
  },
  {
   "cell_type": "code",
   "execution_count": 226,
   "id": "circular-wheat",
   "metadata": {},
   "outputs": [
    {
     "data": {
      "text/plain": [
       "0.8326265196494204"
      ]
     },
     "execution_count": 226,
     "metadata": {},
     "output_type": "execute_result"
    }
   ],
   "source": [
    "sum(bool_list_top1_2015) / num_top1_2015"
   ]
  },
  {
   "cell_type": "code",
   "execution_count": 264,
   "id": "numerous-friday",
   "metadata": {},
   "outputs": [],
   "source": [
    "cnf_matrix_2011_row = confusion_matrix(ground_true_2011_int, classes_prediction_2011, normalize = 'true')\n",
    "cnf_matrix_2011_col = confusion_matrix(ground_true_2011_int, classes_prediction_2011, normalize = 'pred')"
   ]
  },
  {
   "cell_type": "code",
   "execution_count": 288,
   "id": "working-aspect",
   "metadata": {},
   "outputs": [
    {
     "data": {
      "image/png": "[encoded data removed]",
      "text/plain": [
       "<Figure size 432x288 with 2 Axes>"
      ]
     },
     "metadata": {
      "needs_background": "light"
     },
     "output_type": "display_data"
    }
   ],
   "source": [
    "columns = ['top1%','top10%', 'btm90', 'zero_cite']\n",
    "df_cm = pd.DataFrame(cnf_matrix_2011_row, index=columns, columns=columns)\n",
    "\n",
    "ax = sns.heatmap(df_cm, cmap='Oranges', annot=True)\n",
    "plt.title('Confusion matrix 2011 normalized row-wise')\n",
    "plt.xlabel('Predicted Labels')\n",
    "plt.ylabel('True Labels')\n",
    "\n",
    "plt.savefig('conf_matrix_2011_row.png')"
   ]
  },
  {
   "cell_type": "code",
   "execution_count": 289,
   "id": "first-warren",
   "metadata": {},
   "outputs": [
    {
     "data": {
      "image/png": "[encoded data removed]",
      "text/plain": [
       "<Figure size 432x288 with 2 Axes>"
      ]
     },
     "metadata": {
      "needs_background": "light"
     },
     "output_type": "display_data"
    }
   ],
   "source": [
    "columns = ['top1%','top10%', 'btm90', 'zero_cite']\n",
    "df_cm = pd.DataFrame(cnf_matrix_2011_col, index=columns, columns=columns)\n",
    "\n",
    "ax = sns.heatmap(df_cm, cmap='Oranges', annot=True)\n",
    "plt.title('Confusion matrix 2011 normalized column-wise')\n",
    "plt.xlabel('Predicted Labels')\n",
    "plt.ylabel('True Labels')\n",
    "\n",
    "plt.savefig('conf_matrix_2011_col.png')"
   ]
  },
  {
   "cell_type": "code",
   "execution_count": 192,
   "id": "encouraging-voluntary",
   "metadata": {},
   "outputs": [
    {
     "name": "stdout",
     "output_type": "stream",
     "text": [
      "              precision    recall  f1-score   support\n",
      "\n",
      "           0       0.99      0.84      0.91     17157\n",
      "           1       0.24      0.00      0.00     17651\n",
      "           2       0.56      0.96      0.70    113744\n",
      "           3       0.59      0.11      0.18     75848\n",
      "\n",
      "    accuracy                           0.59    224400\n",
      "   macro avg       0.60      0.48      0.45    224400\n",
      "weighted avg       0.58      0.59      0.49    224400\n",
      "\n"
     ]
    }
   ],
   "source": [
    "print(classification_report(ground_true_2011_int, classes_prediction_2011))"
   ]
  },
  {
   "cell_type": "code",
   "execution_count": 271,
   "id": "naval-infrared",
   "metadata": {},
   "outputs": [],
   "source": [
    "cnf_matrix_2012_row = confusion_matrix(ground_true_2012_int, classes_prediction_2012, normalize = 'true')\n",
    "cnf_matrix_2012_col = confusion_matrix(ground_true_2012_int, classes_prediction_2012, normalize = 'pred')"
   ]
  },
  {
   "cell_type": "code",
   "execution_count": 290,
   "id": "cardiac-pickup",
   "metadata": {},
   "outputs": [
    {
     "data": {
      "image/png": "[encoded data removed]",
      "text/plain": [
       "<Figure size 432x288 with 2 Axes>"
      ]
     },
     "metadata": {
      "needs_background": "light"
     },
     "output_type": "display_data"
    }
   ],
   "source": [
    "columns = ['top1%','top10%', 'btm90', 'zero_cite']\n",
    "df_cm = pd.DataFrame(cnf_matrix_2012_row, index=columns, columns=columns)\n",
    "\n",
    "ax = sns.heatmap(df_cm, cmap='Oranges', annot=True)\n",
    "plt.title('Confusion matrix 2012 normalized row-wise')\n",
    "plt.xlabel('Predicted Labels')\n",
    "plt.ylabel('True Labels')\n",
    "\n",
    "plt.savefig('conf_matrix_2012_row.png')"
   ]
  },
  {
   "cell_type": "code",
   "execution_count": 291,
   "id": "creative-yahoo",
   "metadata": {},
   "outputs": [
    {
     "data": {
      "image/png": "[encoded data removed]",
      "text/plain": [
       "<Figure size 432x288 with 2 Axes>"
      ]
     },
     "metadata": {
      "needs_background": "light"
     },
     "output_type": "display_data"
    }
   ],
   "source": [
    "columns = ['top1%','top10%', 'btm90', 'zero_cite']\n",
    "df_cm = pd.DataFrame(cnf_matrix_2012_col, index=columns, columns=columns)\n",
    "\n",
    "ax = sns.heatmap(df_cm, cmap='Oranges', annot=True)\n",
    "plt.title('Confusion matrix 2012 normalized column-wise')\n",
    "plt.xlabel('Predicted Labels')\n",
    "plt.ylabel('True Labels')\n",
    "\n",
    "plt.savefig('conf_matrix_2012_col.png')"
   ]
  },
  {
   "cell_type": "code",
   "execution_count": 194,
   "id": "constitutional-march",
   "metadata": {},
   "outputs": [
    {
     "name": "stdout",
     "output_type": "stream",
     "text": [
      "              precision    recall  f1-score   support\n",
      "\n",
      "           0       0.99      0.82      0.90     19480\n",
      "           1       0.28      0.00      0.01     17913\n",
      "           2       0.54      0.96      0.69    123669\n",
      "           3       0.61      0.10      0.18     92038\n",
      "\n",
      "    accuracy                           0.57    253100\n",
      "   macro avg       0.60      0.47      0.44    253100\n",
      "weighted avg       0.58      0.57      0.47    253100\n",
      "\n"
     ]
    }
   ],
   "source": [
    "print(classification_report(ground_true_2012_int, classes_prediction_2012))"
   ]
  },
  {
   "cell_type": "code",
   "execution_count": 275,
   "id": "mighty-rugby",
   "metadata": {},
   "outputs": [],
   "source": [
    "cnf_matrix_2013_row = confusion_matrix(ground_true_2013_int, classes_prediction_2013, normalize = 'true')\n",
    "cnf_matrix_2013_col = confusion_matrix(ground_true_2013_int, classes_prediction_2013, normalize = 'pred')"
   ]
  },
  {
   "cell_type": "code",
   "execution_count": 292,
   "id": "caroline-romance",
   "metadata": {},
   "outputs": [
    {
     "data": {
      "image/png": "[encoded data removed]",
      "text/plain": [
       "<Figure size 432x288 with 2 Axes>"
      ]
     },
     "metadata": {
      "needs_background": "light"
     },
     "output_type": "display_data"
    }
   ],
   "source": [
    "columns = ['top1%','top10%', 'btm90', 'zero_cite']\n",
    "df_cm = pd.DataFrame(cnf_matrix_2013_row, index=columns, columns=columns)\n",
    "\n",
    "ax = sns.heatmap(df_cm, cmap='Oranges', annot=True)\n",
    "plt.title('Confusion matrix 2013 normalized row-wise')\n",
    "plt.xlabel('Predicted Labels')\n",
    "plt.ylabel('True Labels')\n",
    "\n",
    "plt.savefig('conf_matrix_2013_row.png')"
   ]
  },
  {
   "cell_type": "code",
   "execution_count": 293,
   "id": "second-edward",
   "metadata": {},
   "outputs": [
    {
     "data": {
      "image/png": "[encoded data removed]",
      "text/plain": [
       "<Figure size 432x288 with 2 Axes>"
      ]
     },
     "metadata": {
      "needs_background": "light"
     },
     "output_type": "display_data"
    }
   ],
   "source": [
    "columns = ['top1%','top10%', 'btm90', 'zero_cite']\n",
    "df_cm = pd.DataFrame(cnf_matrix_2013_col, index=columns, columns=columns)\n",
    "\n",
    "ax = sns.heatmap(df_cm, cmap='Oranges', annot=True)\n",
    "plt.title('Confusion matrix 2013 normalized column-wise')\n",
    "plt.xlabel('Predicted Labels')\n",
    "plt.ylabel('True Labels')\n",
    "\n",
    "plt.savefig('conf_matrix_2013_column.png')"
   ]
  },
  {
   "cell_type": "code",
   "execution_count": 196,
   "id": "functional-satisfaction",
   "metadata": {},
   "outputs": [
    {
     "name": "stdout",
     "output_type": "stream",
     "text": [
      "              precision    recall  f1-score   support\n",
      "\n",
      "           0       0.99      0.83      0.90     21260\n",
      "           1       0.17      0.00      0.00     18340\n",
      "           2       0.51      0.96      0.66    129388\n",
      "           3       0.62      0.10      0.17    108812\n",
      "\n",
      "    accuracy                           0.55    277800\n",
      "   macro avg       0.57      0.47      0.43    277800\n",
      "weighted avg       0.57      0.55      0.44    277800\n",
      "\n"
     ]
    }
   ],
   "source": [
    "print(classification_report(ground_true_2013_int, classes_prediction_2013))"
   ]
  },
  {
   "cell_type": "code",
   "execution_count": 280,
   "id": "interested-manitoba",
   "metadata": {},
   "outputs": [],
   "source": [
    "cnf_matrix_2014_row = confusion_matrix(ground_true_2014_int, classes_prediction_2014, normalize = 'true')\n",
    "cnf_matrix_2014_col = confusion_matrix(ground_true_2014_int, classes_prediction_2014, normalize = 'pred')"
   ]
  },
  {
   "cell_type": "code",
   "execution_count": 294,
   "id": "neither-software",
   "metadata": {},
   "outputs": [
    {
     "data": {
      "image/png": "[encoded data removed]",
      "text/plain": [
       "<Figure size 432x288 with 2 Axes>"
      ]
     },
     "metadata": {
      "needs_background": "light"
     },
     "output_type": "display_data"
    }
   ],
   "source": [
    "columns = ['top1%','top10%', 'btm90', 'zero_cite']\n",
    "df_cm = pd.DataFrame(cnf_matrix_2014_row, index=columns, columns=columns)\n",
    "\n",
    "ax = sns.heatmap(df_cm, cmap='Oranges', annot=True)\n",
    "plt.title('Confusion matrix 2014 normalized row-wise')\n",
    "plt.xlabel('Predicted Labels')\n",
    "plt.ylabel('True Labels')\n",
    "\n",
    "plt.savefig('conf_matrix_2014_row.png')"
   ]
  },
  {
   "cell_type": "code",
   "execution_count": 295,
   "id": "heard-melbourne",
   "metadata": {},
   "outputs": [
    {
     "data": {
      "image/png": "[encoded data removed]",
      "text/plain": [
       "<Figure size 432x288 with 2 Axes>"
      ]
     },
     "metadata": {
      "needs_background": "light"
     },
     "output_type": "display_data"
    }
   ],
   "source": [
    "columns = ['top1%','top10%', 'btm90', 'zero_cite']\n",
    "df_cm = pd.DataFrame(cnf_matrix_2014_col, index=columns, columns=columns)\n",
    "\n",
    "ax = sns.heatmap(df_cm, cmap='Oranges', annot=True)\n",
    "plt.title('Confusion matrix 2014 normalized column-wise')\n",
    "plt.xlabel('Predicted Labels')\n",
    "plt.ylabel('True Labels')\n",
    "\n",
    "plt.savefig('conf_matrix_2014_column.png')"
   ]
  },
  {
   "cell_type": "code",
   "execution_count": 198,
   "id": "decent-ozone",
   "metadata": {},
   "outputs": [
    {
     "name": "stdout",
     "output_type": "stream",
     "text": [
      "              precision    recall  f1-score   support\n",
      "\n",
      "           0       0.99      0.83      0.90     22720\n",
      "           1       0.22      0.00      0.01     17658\n",
      "           2       0.49      0.96      0.64    133686\n",
      "           3       0.63      0.09      0.16    126536\n",
      "\n",
      "    accuracy                           0.53    300600\n",
      "   macro avg       0.58      0.47      0.43    300600\n",
      "weighted avg       0.57      0.53      0.42    300600\n",
      "\n"
     ]
    }
   ],
   "source": [
    "print(classification_report(ground_true_2014_int, classes_prediction_2014))"
   ]
  },
  {
   "cell_type": "code",
   "execution_count": 284,
   "id": "responsible-optimum",
   "metadata": {},
   "outputs": [],
   "source": [
    "cnf_matrix_2015_row = confusion_matrix(ground_true_2015_int, classes_prediction_2015, normalize = 'true')\n",
    "cnf_matrix_2015_col = confusion_matrix(ground_true_2015_int, classes_prediction_2015, normalize = 'pred')"
   ]
  },
  {
   "cell_type": "code",
   "execution_count": 296,
   "id": "better-camel",
   "metadata": {},
   "outputs": [
    {
     "data": {
      "image/png": "[encoded data removed]",
      "text/plain": [
       "<Figure size 432x288 with 2 Axes>"
      ]
     },
     "metadata": {
      "needs_background": "light"
     },
     "output_type": "display_data"
    }
   ],
   "source": [
    "columns = ['top1%','top10%', 'btm90', 'zero_cite']\n",
    "df_cm = pd.DataFrame(cnf_matrix_2015_row, index=columns, columns=columns)\n",
    "\n",
    "ax = sns.heatmap(df_cm, cmap='Oranges', annot=True)\n",
    "plt.title('Confusion matrix 2015 normalized row-wise')\n",
    "plt.xlabel('Predicted Labels')\n",
    "plt.ylabel('True Labels')\n",
    "\n",
    "plt.savefig('conf_matrix_2015_row.png')"
   ]
  },
  {
   "cell_type": "code",
   "execution_count": 297,
   "id": "alive-closing",
   "metadata": {},
   "outputs": [
    {
     "data": {
      "image/png": "[encoded data removed]",
      "text/plain": [
       "<Figure size 432x288 with 2 Axes>"
      ]
     },
     "metadata": {
      "needs_background": "light"
     },
     "output_type": "display_data"
    }
   ],
   "source": [
    "columns = ['top1%','top10%', 'btm90', 'zero_cite']\n",
    "df_cm = pd.DataFrame(cnf_matrix_2015_col, index=columns, columns=columns)\n",
    "\n",
    "ax = sns.heatmap(df_cm, cmap='Oranges', annot=True)\n",
    "plt.title('Confusion matrix 2015 normalized column-wise')\n",
    "plt.xlabel('Predicted Labels')\n",
    "plt.ylabel('True Labels')\n",
    "\n",
    "plt.savefig('conf_matrix_2015_column.png')"
   ]
  },
  {
   "cell_type": "code",
   "execution_count": 190,
   "id": "regional-essex",
   "metadata": {},
   "outputs": [
    {
     "name": "stdout",
     "output_type": "stream",
     "text": [
      "              precision    recall  f1-score   support\n",
      "\n",
      "           0       0.99      0.83      0.90     14148\n",
      "           1       0.15      0.00      0.00     10751\n",
      "           2       0.47      0.96      0.63     82674\n",
      "           3       0.65      0.09      0.16     84727\n",
      "\n",
      "    accuracy                           0.51    192300\n",
      "   macro avg       0.56      0.47      0.42    192300\n",
      "weighted avg       0.57      0.51      0.41    192300\n",
      "\n"
     ]
    }
   ],
   "source": [
    "print(classification_report(ground_true_2015_int, classes_prediction_2015))"
   ]
  },
  {
   "cell_type": "code",
   "execution_count": null,
   "id": "reliable-credit",
   "metadata": {},
   "outputs": [],
   "source": []
  }
 ],
 "metadata": {
  "kernelspec": {
   "display_name": "Python 3",
   "language": "python",
   "name": "python3"
  },
  "language_info": {
   "codemirror_mode": {
    "name": "ipython",
    "version": 3
   },
   "file_extension": ".py",
   "mimetype": "text/x-python",
   "name": "python",
   "nbconvert_exporter": "python",
   "pygments_lexer": "ipython3",
   "version": "3.8.8"
  }
 },
 "nbformat": 4,
 "nbformat_minor": 5
}
